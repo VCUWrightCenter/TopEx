{
 "cells": [
  {
   "cell_type": "code",
   "execution_count": null,
   "metadata": {},
   "outputs": [],
   "source": [
    "# default_exp core"
   ]
  },
  {
   "cell_type": "code",
   "execution_count": null,
   "metadata": {},
   "outputs": [],
   "source": [
    "#export\n",
    "from medtop.nlp_helpers import *\n",
    "from medtop.preprocessing import *"
   ]
  },
  {
   "cell_type": "markdown",
   "metadata": {},
   "source": [
    "# Core\n",
    "\n",
    "> Methods for calling "
   ]
  },
  {
   "cell_type": "code",
   "execution_count": null,
   "metadata": {},
   "outputs": [],
   "source": [
    "#hide\n",
    "from nbdev.showdoc import *"
   ]
  },
  {
   "cell_type": "code",
   "execution_count": null,
   "metadata": {},
   "outputs": [],
   "source": [
    "#export\n",
    "def import_docs(path_to_file_list, verbose = False):\n",
    "    \"Imports and processes the list of documents contained in the given file\"\n",
    "    \n",
    "    # Extract list of files from text document\n",
    "    with open(path_to_file_list) as file:\n",
    "        file_list = file.read().strip().split('\\n')\n",
    "    \n",
    "    # Append the raw contents of each document to an array\n",
    "    file_content = []\n",
    "    for file_path in file_list:\n",
    "        with open(file_path, \"r\") as file:\n",
    "            text = file.read()\n",
    "            file_content.append(text)\n",
    "        \n",
    "    my_docs = []\n",
    "    my_docs_pos = []\n",
    "    my_docs_loc = []    \n",
    "    raw_sentences = []\n",
    "\n",
    "    for doc in file_content:\n",
    "        split_sent, split_sent_pos, split_sent_loc, tokens, pos, loc, full_sent, full_pos, full_loc, raw_sent = tokenize_and_stem(doc)\n",
    "        my_docs.append(split_sent)\n",
    "        my_docs_pos.append(split_sent_pos)\n",
    "        my_docs_loc.append(split_sent_loc)\n",
    "        \n",
    "        raw_sentences.append(raw_sent)\n",
    "        \n",
    "    if verbose == True: print(\"Number of Documents Loaded: \" + str(len(my_docs)))\n",
    "        \n",
    "    return my_docs, my_docs_pos, my_docs_loc, raw_sentences"
   ]
  },
  {
   "cell_type": "code",
   "execution_count": null,
   "metadata": {},
   "outputs": [],
   "source": [
    "#export\n",
    "def sentences_to_disk(raw_sentences, outfile_name):\n",
    "    \"Writes the raw sentences to a file organized by document and sentence number\"\n",
    "#     outfile_name = args.o + \"/\" + args.p + \"_DocumentSentenceList.txt\"\n",
    "    with open(outfile_name, \"w\") as outfile:\n",
    "        outfile.write(\"Sentence ID\\tSentence Text\\n\")\n",
    "        for doc_ix, doc in enumerate(raw_sentences):\n",
    "            for sent_ix, sent in enumerate(doc):\n",
    "                outfile.write(f\"doc.{doc_ix}.sent.{sent_ix}\\t{sent}\\n\")"
   ]
  },
  {
   "cell_type": "code",
   "execution_count": null,
   "metadata": {},
   "outputs": [
    {
     "name": "stdout",
     "output_type": "stream",
     "text": [
      "Converted Core.ipynb.\n",
      "Converted helpers.ipynb.\n",
      "Converted index.ipynb.\n",
      "Converted nlp_helpers.ipynb.\n",
      "Converted preprocessing.ipynb.\n",
      "Converted Sandbox.ipynb.\n"
     ]
    }
   ],
   "source": [
    "#hide\n",
    "from nbdev.export import notebook2script\n",
    "notebook2script()"
   ]
  }
 ],
 "metadata": {
  "kernelspec": {
   "display_name": "Python 3",
   "language": "python",
   "name": "python3"
  }
 },
 "nbformat": 4,
 "nbformat_minor": 2
}
