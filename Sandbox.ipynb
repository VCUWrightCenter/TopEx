{
 "cells": [
  {
   "cell_type": "code",
   "execution_count": null,
   "metadata": {},
   "outputs": [],
   "source": [
    "from medtop.core import *"
   ]
  },
  {
   "cell_type": "code",
   "execution_count": null,
   "metadata": {},
   "outputs": [],
   "source": [
    "path_to_file_list = 'data/2019.03.11_DevCorpus/file_list.txt'\n",
    "my_docs, my_docs_pos, my_docs_loc, raw_sentences = import_docs(path_to_file_list)"
   ]
  },
  {
   "cell_type": "code",
   "execution_count": null,
   "metadata": {},
   "outputs": [
    {
     "name": "stdout",
     "output_type": "stream",
     "text": [
      "Number of Documents Loaded: 2\n"
     ]
    }
   ],
   "source": []
  },
  {
   "cell_type": "code",
   "execution_count": null,
   "metadata": {},
   "outputs": [
    {
     "name": "stdout",
     "output_type": "stream",
     "text": [
      "doc.0.sent.0\tI am currently on my first AI in the Emergency Department.\n",
      "\n",
      "doc.1.sent.0\tI am currently working in the cardiac surgery ICU and for me the greatest challenge has been doing my critical care AI right after my ward AI.\n",
      "\n"
     ]
    }
   ],
   "source": [
    "for doc_ix, doc in enumerate(raw_sentences):\n",
    "    for sent_ix, sent in enumerate(doc):\n",
    "        print(f\"doc.{doc_ix}.sent.{sent_ix}\\t{sent}\\n\")"
   ]
  },
  {
   "cell_type": "code",
   "execution_count": null,
   "metadata": {},
   "outputs": [
    {
     "ename": "NameError",
     "evalue": "name 'public' is not defined",
     "output_type": "error",
     "traceback": [
      "\u001b[1;31m---------------------------------------------------------------------------\u001b[0m",
      "\u001b[1;31mNameError\u001b[0m                                 Traceback (most recent call last)",
      "\u001b[1;32m<ipython-input-4-8db247900e30>\u001b[0m in \u001b[0;36m<module>\u001b[1;34m\u001b[0m\n\u001b[1;32m----> 1\u001b[1;33m \u001b[0mpublic\u001b[0m\u001b[1;33m(\u001b[0m\u001b[1;33m)\u001b[0m\u001b[1;33m\u001b[0m\u001b[1;33m\u001b[0m\u001b[0m\n\u001b[0m",
      "\u001b[1;31mNameError\u001b[0m: name 'public' is not defined"
     ]
    }
   ],
   "source": [
    "for doc in range(0,len(raw_sentences)):\n",
    "    for sent in range(0,len(raw_sentences[doc])):\n",
    "        outfile.write(\"doc.\" + str(doc) + \".sent.\" + str(sent) + \"\\t\" + raw_sentences[doc][sent] + \"\\n\")"
   ]
  }
 ],
 "metadata": {
  "kernelspec": {
   "display_name": "Python 3",
   "language": "python",
   "name": "python3"
  }
 },
 "nbformat": 4,
 "nbformat_minor": 2
}
