{
 "cells": [
  {
   "cell_type": "code",
   "execution_count": null,
   "metadata": {},
   "outputs": [],
   "source": [
    "#hide\n",
    "#all_flag\n",
    "from nbdev.showdoc import *"
   ]
  },
  {
   "cell_type": "markdown",
   "metadata": {},
   "source": [
    "# MedTop\n",
    "\n",
    "> Extracting topics from reflective medical writings."
   ]
  },
  {
   "cell_type": "markdown",
   "metadata": {},
   "source": [
    "## Requirements\n",
    "`pip install medtop` *Not actually available via pip yet\n",
    "\n",
    "`python -m nltk.downloader all`"
   ]
  },
  {
   "cell_type": "markdown",
   "metadata": {},
   "source": [
    "## How to use"
   ]
  },
  {
   "cell_type": "markdown",
   "metadata": {},
   "source": [
    "A template pipeline is provided below using a test dataset. You can read more about the test_data dataset [here](https://github.com/cctrbic/medtop/blob/master/test_data/README.md)\n",
    "\n",
    "Each step of the pipeline has configuration options for experimenting with various methods. These are detailed in the documentation for each method. Notably, the `import_docs`, `get_cluster_topics`, `visualize_clustering`, and `evaluate` methods all include the option to save results to a file."
   ]
  },
  {
   "cell_type": "markdown",
   "metadata": {},
   "source": [
    "## Example Pipeline\n",
    "### Import data\n",
    "Import and pre-process documents from a text file containing a list of all documents."
   ]
  },
  {
   "cell_type": "code",
   "execution_count": null,
   "metadata": {},
   "outputs": [
    {
     "name": "stdout",
     "output_type": "stream",
     "text": [
      "Results saved to output/DocumentSentenceList.txt\n"
     ]
    }
   ],
   "source": [
    "from medtop.core import *\n",
    "data, doc_df = import_docs('test_data/corpus_file_list.txt', save_results = True)"
   ]
  },
  {
   "cell_type": "markdown",
   "metadata": {},
   "source": [
    "### Transform data\n",
    "Create word vectors from the most expressive phrase in each sentence of the imported documents.\n",
    "\n",
    "NOTE: If `doc_df` is NOT passed to `create_tfidf`, you must set `include_input_in_tfidf=False` in `get_phrases`."
   ]
  },
  {
   "cell_type": "code",
   "execution_count": null,
   "metadata": {},
   "outputs": [
    {
     "name": "stdout",
     "output_type": "stream",
     "text": [
      "Removed 0 sentences without phrases.\n"
     ]
    }
   ],
   "source": [
    "tfidf, dictionary = create_tfidf(doc_df, 'test_data/seed_topics_file_list.txt')\n",
    "data = get_phrases(data, dictionary.token2id, tfidf, include_input_in_tfidf = True)\n",
    "data = get_vectors(\"tfidf\", data, dictionary = dictionary, tfidf = tfidf)"
   ]
  },
  {
   "cell_type": "markdown",
   "metadata": {},
   "source": [
    "### Cluster data\n",
    "Cluster the sentences into groups expressing similar ideas or topics. If you aren't sure how many true clusters exist in the data, try running `assign_clusters` with the optional parameter `show_chart = True` to visual cluster quality with varying numbers of clusters. When using `method='hac'`, you can also use `show_dendrogram = True` see the cluster dendrogram."
   ]
  },
  {
   "cell_type": "code",
   "execution_count": null,
   "metadata": {},
   "outputs": [
    {
     "name": "stdout",
     "output_type": "stream",
     "text": [
      "Results saved to output/TopicClusterResults.txt\n"
     ]
    },
    {
     "name": "stderr",
     "output_type": "stream",
     "text": [
      "C:\\Users\\etfrench\\Anaconda3\\lib\\site-packages\\umap\\spectral.py:229: UserWarning:\n",
      "\n",
      "Embedding a total of 2 separate connected components using meta-embedding (experimental)\n",
      "\n"
     ]
    },
    {
     "data": {
      "text/html": [
       "<div>\n",
       "<style scoped>\n",
       "    .dataframe tbody tr th:only-of-type {\n",
       "        vertical-align: middle;\n",
       "    }\n",
       "\n",
       "    .dataframe tbody tr th {\n",
       "        vertical-align: top;\n",
       "    }\n",
       "\n",
       "    .dataframe thead th {\n",
       "        text-align: right;\n",
       "    }\n",
       "</style>\n",
       "<table border=\"1\" class=\"dataframe\">\n",
       "  <thead>\n",
       "    <tr style=\"text-align: right;\">\n",
       "      <th></th>\n",
       "      <th>cluster</th>\n",
       "      <th>topics</th>\n",
       "      <th>sent_count</th>\n",
       "    </tr>\n",
       "  </thead>\n",
       "  <tbody>\n",
       "    <tr>\n",
       "      <th>0</th>\n",
       "      <td>0</td>\n",
       "      <td>[felt, joy, got, guilt, found, son, shame, for...</td>\n",
       "      <td>37</td>\n",
       "    </tr>\n",
       "    <tr>\n",
       "      <th>1</th>\n",
       "      <td>1</td>\n",
       "      <td>[felt, sadness, heard, died, dog, home, friend...</td>\n",
       "      <td>14</td>\n",
       "    </tr>\n",
       "    <tr>\n",
       "      <th>2</th>\n",
       "      <td>2</td>\n",
       "      <td>[felt, guilt, joy, shame, sadness, friend, old...</td>\n",
       "      <td>87</td>\n",
       "    </tr>\n",
       "    <tr>\n",
       "      <th>3</th>\n",
       "      <td>3</td>\n",
       "      <td>[felt, guilt, lost, joy, sadness, managed, lie...</td>\n",
       "      <td>16</td>\n",
       "    </tr>\n",
       "  </tbody>\n",
       "</table>\n",
       "</div>"
      ],
      "text/plain": [
       "   cluster                                             topics  sent_count\n",
       "0        0  [felt, joy, got, guilt, found, son, shame, for...          37\n",
       "1        1  [felt, sadness, heard, died, dog, home, friend...          14\n",
       "2        2  [felt, guilt, joy, shame, sadness, friend, old...          87\n",
       "3        3  [felt, guilt, lost, joy, sadness, managed, lie...          16"
      ]
     },
     "execution_count": null,
     "metadata": {},
     "output_type": "execute_result"
    }
   ],
   "source": [
    "data = assign_clusters(data, method = \"kmeans\", k=4)\n",
    "cluster_df = get_cluster_topics(data, doc_df, save_results = True)\n",
    "visualize_clustering(data, method = \"umap\", show_chart = False)\n",
    "cluster_df"
   ]
  },
  {
   "cell_type": "markdown",
   "metadata": {},
   "source": [
    "### Evaluate results"
   ]
  },
  {
   "cell_type": "code",
   "execution_count": null,
   "metadata": {},
   "outputs": [
    {
     "data": {
      "text/html": [
       "<div>\n",
       "<style scoped>\n",
       "    .dataframe tbody tr th:only-of-type {\n",
       "        vertical-align: middle;\n",
       "    }\n",
       "\n",
       "    .dataframe tbody tr th {\n",
       "        vertical-align: top;\n",
       "    }\n",
       "\n",
       "    .dataframe thead th {\n",
       "        text-align: right;\n",
       "    }\n",
       "</style>\n",
       "<table border=\"1\" class=\"dataframe\">\n",
       "  <thead>\n",
       "    <tr style=\"text-align: right;\">\n",
       "      <th></th>\n",
       "      <th>label</th>\n",
       "      <th>gold_examples</th>\n",
       "      <th>closest_cluster</th>\n",
       "      <th>closest_cluster_members</th>\n",
       "      <th>tp</th>\n",
       "      <th>fp</th>\n",
       "      <th>fn</th>\n",
       "      <th>precision</th>\n",
       "      <th>recall</th>\n",
       "      <th>f1</th>\n",
       "    </tr>\n",
       "  </thead>\n",
       "  <tbody>\n",
       "    <tr>\n",
       "      <th>2</th>\n",
       "      <td>guilt</td>\n",
       "      <td>{doc.4.sent.17, doc.9.sent.6, doc.0.sent.0, do...</td>\n",
       "      <td>2</td>\n",
       "      <td>{doc.4.sent.15, doc.4.sent.8, doc.3.sent.12, d...</td>\n",
       "      <td>31</td>\n",
       "      <td>56</td>\n",
       "      <td>37</td>\n",
       "      <td>0.356</td>\n",
       "      <td>0.456</td>\n",
       "      <td>0.400</td>\n",
       "    </tr>\n",
       "    <tr>\n",
       "      <th>1</th>\n",
       "      <td>joy</td>\n",
       "      <td>{doc.0.sent.19, doc.7.sent.2, doc.1.sent.19, d...</td>\n",
       "      <td>0</td>\n",
       "      <td>{doc.5.sent.4, doc.5.sent.5, doc.1.sent.10, do...</td>\n",
       "      <td>23</td>\n",
       "      <td>14</td>\n",
       "      <td>40</td>\n",
       "      <td>0.622</td>\n",
       "      <td>0.365</td>\n",
       "      <td>0.460</td>\n",
       "    </tr>\n",
       "    <tr>\n",
       "      <th>0</th>\n",
       "      <td>sadness</td>\n",
       "      <td>{doc.1.sent.13, doc.4.sent.15, doc.1.sent.18, ...</td>\n",
       "      <td>2</td>\n",
       "      <td>{doc.4.sent.15, doc.4.sent.8, doc.3.sent.12, d...</td>\n",
       "      <td>15</td>\n",
       "      <td>72</td>\n",
       "      <td>23</td>\n",
       "      <td>0.172</td>\n",
       "      <td>0.395</td>\n",
       "      <td>0.240</td>\n",
       "    </tr>\n",
       "    <tr>\n",
       "      <th>3</th>\n",
       "      <td>shame</td>\n",
       "      <td>{doc.8.sent.14, doc.4.sent.8, doc.4.sent.19, d...</td>\n",
       "      <td>2</td>\n",
       "      <td>{doc.4.sent.15, doc.4.sent.8, doc.3.sent.12, d...</td>\n",
       "      <td>20</td>\n",
       "      <td>67</td>\n",
       "      <td>11</td>\n",
       "      <td>0.230</td>\n",
       "      <td>0.645</td>\n",
       "      <td>0.339</td>\n",
       "    </tr>\n",
       "  </tbody>\n",
       "</table>\n",
       "</div>"
      ],
      "text/plain": [
       "     label                                      gold_examples  \\\n",
       "2    guilt  {doc.4.sent.17, doc.9.sent.6, doc.0.sent.0, do...   \n",
       "1      joy  {doc.0.sent.19, doc.7.sent.2, doc.1.sent.19, d...   \n",
       "0  sadness  {doc.1.sent.13, doc.4.sent.15, doc.1.sent.18, ...   \n",
       "3    shame  {doc.8.sent.14, doc.4.sent.8, doc.4.sent.19, d...   \n",
       "\n",
       "   closest_cluster                            closest_cluster_members  tp  fp  \\\n",
       "2                2  {doc.4.sent.15, doc.4.sent.8, doc.3.sent.12, d...  31  56   \n",
       "1                0  {doc.5.sent.4, doc.5.sent.5, doc.1.sent.10, do...  23  14   \n",
       "0                2  {doc.4.sent.15, doc.4.sent.8, doc.3.sent.12, d...  15  72   \n",
       "3                2  {doc.4.sent.15, doc.4.sent.8, doc.3.sent.12, d...  20  67   \n",
       "\n",
       "   fn  precision  recall     f1  \n",
       "2  37      0.356   0.456  0.400  \n",
       "1  40      0.622   0.365  0.460  \n",
       "0  23      0.172   0.395  0.240  \n",
       "3  11      0.230   0.645  0.339  "
      ]
     },
     "execution_count": null,
     "metadata": {},
     "output_type": "execute_result"
    }
   ],
   "source": [
    "gold_file = \"test_data/gold.txt\"\n",
    "evaluate(data, gold_file=\"test_data/gold.txt\", save_results = False)"
   ]
  },
  {
   "cell_type": "code",
   "execution_count": null,
   "metadata": {},
   "outputs": [
    {
     "name": "stdout",
     "output_type": "stream",
     "text": [
      "Converted core.ipynb.\n",
      "Converted index.ipynb.\n",
      "Converted internal.ipynb.\n",
      "Converted preprocessing.ipynb.\n",
      "Converted sandbox.ipynb.\n"
     ]
    }
   ],
   "source": [
    "#hide\n",
    "from nbdev.export import notebook2script\n",
    "notebook2script()"
   ]
  }
 ],
 "metadata": {
  "kernelspec": {
   "display_name": "Python 3",
   "language": "python",
   "name": "python3"
  }
 },
 "nbformat": 4,
 "nbformat_minor": 2
}
