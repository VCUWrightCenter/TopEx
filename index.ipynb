{
 "cells": [
  {
   "cell_type": "code",
   "execution_count": null,
   "metadata": {},
   "outputs": [],
   "source": [
    "#all_flag\n",
    "#hide\n",
    "from medtop.core import *\n",
    "from medtop.internal import *\n",
    "from medtop.nlp_helpers import *\n",
    "from medtop.preprocessing import *\n",
    "from nbdev.showdoc import *\n",
    "import warnings\n",
    "warnings.filterwarnings('ignore')"
   ]
  },
  {
   "cell_type": "code",
   "execution_count": null,
   "metadata": {},
   "outputs": [
    {
     "data": {
      "text/html": [
       "<style>.container { width:90% !important; }</style>"
      ],
      "text/plain": [
       "<IPython.core.display.HTML object>"
      ]
     },
     "metadata": {},
     "output_type": "display_data"
    }
   ],
   "source": [
    "#hide\n",
    "# wide screen\n",
    "from IPython.core.display import display, HTML\n",
    "display(HTML(\"<style>.container { width:90% !important; }</style>\"))"
   ]
  },
  {
   "cell_type": "markdown",
   "metadata": {},
   "source": [
    "# MedTop\n",
    "\n",
    "> Extracting topics from reflective medical writings"
   ]
  },
  {
   "cell_type": "markdown",
   "metadata": {},
   "source": [
    "Website: https://cctrbic.github.io/medtop/  \n",
    "![CI](https://github.com/cctrbic/medtop/workflows/CI/badge.svg)"
   ]
  },
  {
   "cell_type": "markdown",
   "metadata": {},
   "source": [
    "## Install"
   ]
  },
  {
   "cell_type": "markdown",
   "metadata": {},
   "source": [
    "`pip install medtop`"
   ]
  },
  {
   "cell_type": "markdown",
   "metadata": {},
   "source": [
    "## How to use"
   ]
  },
  {
   "cell_type": "markdown",
   "metadata": {},
   "source": [
    "Download NLTK data to your machine using `python -m nltk.downloader all`"
   ]
  },
  {
   "cell_type": "markdown",
   "metadata": {},
   "source": [
    "Import documents from a text file containing a list of all documents  \n",
    "**QUESTION: I can't see anywhere we are actually using `my_docs_pos` or `my_docs_loc`. Can we remove these?**"
   ]
  },
  {
   "cell_type": "code",
   "execution_count": null,
   "metadata": {},
   "outputs": [],
   "source": [
    "#TODO: some documents aren't loading properly\n",
    "path_to_file_list = 'data/2019.03.11_DevCorpus/file_list.txt'\n",
    "data, doc_df = import_docs(path_to_file_list)"
   ]
  },
  {
   "cell_type": "markdown",
   "metadata": {},
   "source": [
    "You can review the imported documents manually by writing the raw sentences to disk."
   ]
  },
  {
   "cell_type": "code",
   "execution_count": null,
   "metadata": {},
   "outputs": [],
   "source": [
    "sentences_to_disk(data)"
   ]
  },
  {
   "cell_type": "markdown",
   "metadata": {},
   "source": [
    "Create the TF-IDF matrix. `path_to_corpus_file_list` can be a list of just input files (Local) or a list of all files in the corpus (Global)"
   ]
  },
  {
   "cell_type": "code",
   "execution_count": null,
   "metadata": {},
   "outputs": [
    {
     "name": "stdout",
     "output_type": "stream",
     "text": [
      "Size of TF-IDF: 14 Docs, 860 Tokens\n"
     ]
    }
   ],
   "source": [
    "path_to_seed_topics_file_list = 'data/2019.03.12_SEED_TOPICS/FILELIST.txt'\n",
    "tfidf, dictionary = create_tfidf(path_to_seed_topics_file_list, doc_df)"
   ]
  },
  {
   "cell_type": "markdown",
   "metadata": {},
   "source": [
    "Extract the most expressive phrase from each sentence.  \n",
    "\n",
    "**Need a better understanding of `include_input_in_tfidf` and `token_averages = get_term_max(tdm)`. They don't seem to be representative of their names.**  \n",
    "\n",
    "**Also, I think this is sloppy how I'm appending a column in place. Probably want to refactor.**"
   ]
  },
  {
   "cell_type": "code",
   "execution_count": null,
   "metadata": {},
   "outputs": [],
   "source": [
    "#TODO: Remove None phrase here? Probably add a print statement notifying user\n",
    "data = append_phrase_column(data, dictionary.token2id, tfidf, include_input_in_tfidf = False)"
   ]
  },
  {
   "cell_type": "code",
   "execution_count": null,
   "metadata": {},
   "outputs": [],
   "source": [
    "# Filter out None phrase records\n",
    "data = data[data.phrase.notnull()]"
   ]
  },
  {
   "cell_type": "markdown",
   "metadata": {},
   "source": [
    "### Create sentence vectors\n",
    "**TODO: add explanations**\n",
    "- TF-IDF\n",
    "- SVD\n",
    "- UMAP\n",
    "- Pre-trained Word2Vec embeddings\n",
    "- Create Word2Vec embeddings from input corpus"
   ]
  },
  {
   "cell_type": "code",
   "execution_count": null,
   "metadata": {},
   "outputs": [],
   "source": [
    "data = append_vec_column(\"tfidf\", data, dictionary = dictionary, tfidf = tfidf)\n",
    "# data = append_vec_column(\"svd\", data, dictionary = dictionary, tfidf = tfidf)\n",
    "# data = append_vec_column(\"umap\", data, dictionary = dictionary, tfidf = tfidf)\n",
    "# data = append_vec_column(\"pretrained\", data, path_to_w2v_bin_file = \"data/pubmed2018_w2v_200D.bin\")\n",
    "# data = append_vec_column(\"local\", data, doc_df = doc_df)"
   ]
  },
  {
   "cell_type": "markdown",
   "metadata": {},
   "source": [
    "Filter the sentences, removing any that contain zero \"top phrases\"  \n",
    "**QUESTION: After filtering here, we never again use the filtered records in my_docs, could we filter in place to make this cleaner?**  \n",
    "**QUESTION: Is there a reason we're storing `just_phrase_ids` as a concatenated string instead of a tuple? We can always convert to string when writing to a file, but it makes for messier logic than necessary.**"
   ]
  },
  {
   "cell_type": "markdown",
   "metadata": {},
   "source": [
    "### Clustering"
   ]
  },
  {
   "cell_type": "code",
   "execution_count": null,
   "metadata": {},
   "outputs": [],
   "source": [
    "data = assign_clusters(data, method = \"hac\")\n",
    "data.head()"
   ]
  },
  {
   "cell_type": "markdown",
   "metadata": {},
   "source": [
    "### Visualization\n",
    "All visualization uses cosine similarity. **Why?**"
   ]
  },
  {
   "cell_type": "code",
   "execution_count": null,
   "metadata": {},
   "outputs": [],
   "source": [
    "# dist = pairwise_distances(just_phrase_vecs, metric='cosine')"
   ]
  },
  {
   "cell_type": "markdown",
   "metadata": {},
   "source": [
    "**QUESTION: Should visualization be three separate methods or a single method with optional parameters? There are a few other similar instances in the code where we could do multiple top-level methods or a single caller with kwargs**"
   ]
  },
  {
   "cell_type": "code",
   "execution_count": null,
   "metadata": {},
   "outputs": [],
   "source": [
    "# # TODO: This is not displaying correctly in the README\n",
    "# visualize_umap(just_phrase_ids, cluster_assignments, just_phrase_text, dist)\n",
    "# # visualize_mds(just_phrase_ids, cluster_assignments, just_phrase_text, dist)\n",
    "# # visualize_svd(just_phrase_ids, cluster_assignments, just_phrase_text, dist)"
   ]
  },
  {
   "cell_type": "markdown",
   "metadata": {},
   "source": [
    "**QUESTION: The variables here are named `cluster_topics`, but it seems like they're actual lists of phrases in each cluster. Need clarification**"
   ]
  },
  {
   "cell_type": "code",
   "execution_count": null,
   "metadata": {},
   "outputs": [],
   "source": [
    "# main_cluster_topics = get_cluster_topics(cluster_assignments, just_phrase_ids, my_docs)"
   ]
  },
  {
   "cell_type": "markdown",
   "metadata": {},
   "source": [
    "### Write output to files"
   ]
  },
  {
   "cell_type": "code",
   "execution_count": null,
   "metadata": {},
   "outputs": [],
   "source": [
    "# write_output_to_disk(main_cluster_topics, just_phrase_ids, cluster_assignments, raw_sentences, doc_top_phrases, file_list, file_name = \"output/TopicClusterResults.txt\")\n",
    "# evaluate(just_phrase_ids, cluster_assignments, just_phrase_text)"
   ]
  },
  {
   "cell_type": "code",
   "execution_count": null,
   "metadata": {},
   "outputs": [
    {
     "name": "stdout",
     "output_type": "stream",
     "text": [
      "Converted Core.ipynb.\n",
      "Converted index.ipynb.\n",
      "Converted internal.ipynb.\n",
      "Converted nlp_helpers.ipynb.\n",
      "Converted preprocessing.ipynb.\n",
      "Converted Sandbox.ipynb.\n"
     ]
    }
   ],
   "source": [
    "#hide\n",
    "from nbdev.export import notebook2script\n",
    "notebook2script()"
   ]
  }
 ],
 "metadata": {
  "kernelspec": {
   "display_name": "Python 3",
   "language": "python",
   "name": "python3"
  }
 },
 "nbformat": 4,
 "nbformat_minor": 2
}
