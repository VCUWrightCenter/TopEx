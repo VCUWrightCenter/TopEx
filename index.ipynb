{
 "cells": [
  {
   "cell_type": "code",
   "execution_count": null,
   "metadata": {},
   "outputs": [],
   "source": [
    "#hide\n",
    "from medtop.core import *\n",
    "from medtop.helpers import *\n",
    "from medtop.nlp_helpers import *\n",
    "from medtop.preprocessing import *\n",
    "from nbdev.showdoc import *\n",
    "import warnings\n",
    "warnings.filterwarnings('ignore')"
   ]
  },
  {
   "cell_type": "code",
   "execution_count": null,
   "metadata": {},
   "outputs": [
    {
     "data": {
      "text/html": [
       "<style>.container { width:90% !important; }</style>"
      ],
      "text/plain": [
       "<IPython.core.display.HTML object>"
      ]
     },
     "metadata": {},
     "output_type": "display_data"
    }
   ],
   "source": [
    "#hide\n",
    "# wide screen\n",
    "from IPython.core.display import display, HTML\n",
    "display(HTML(\"<style>.container { width:90% !important; }</style>\"))"
   ]
  },
  {
   "cell_type": "markdown",
   "metadata": {},
   "source": [
    "# MedTop\n",
    "\n",
    "> Extracting topics from reflective medical writings"
   ]
  },
  {
   "cell_type": "markdown",
   "metadata": {},
   "source": [
    "This file will become your README and also the index of your documentation."
   ]
  },
  {
   "cell_type": "markdown",
   "metadata": {},
   "source": [
    "## Install"
   ]
  },
  {
   "cell_type": "markdown",
   "metadata": {},
   "source": [
    "`pip install medtop`"
   ]
  },
  {
   "cell_type": "markdown",
   "metadata": {},
   "source": [
    "## How to use"
   ]
  },
  {
   "cell_type": "markdown",
   "metadata": {},
   "source": [
    "Download NLTK data to your machine using `python -m nltk.downloader all`"
   ]
  },
  {
   "cell_type": "markdown",
   "metadata": {},
   "source": [
    "Import documents from a text file containing a list of all documents  \n",
    "**QUESTION: I can't see anywhere we are actually using `my_docs_pos` or `my_docs_loc`. Can we remove these?**"
   ]
  },
  {
   "cell_type": "code",
   "execution_count": null,
   "metadata": {},
   "outputs": [],
   "source": [
    "# #TODO: some documents aren't loading properly\n",
    "# path_to_file_list = 'data/2019.03.11_DevCorpus/file_list.txt'\n",
    "# my_docs, my_docs_pos, my_docs_loc, raw_sentences, raw_docs, file_list = import_docs(path_to_file_list, verbose=False)"
   ]
  },
  {
   "cell_type": "markdown",
   "metadata": {},
   "source": [
    "You can review the imported documents manually by writing the sentences to disk"
   ]
  },
  {
   "cell_type": "code",
   "execution_count": null,
   "metadata": {},
   "outputs": [],
   "source": [
    "# outfile_name = 'output/PREFIX_DocumentSentenceList.txt'\n",
    "# sentences_to_disk(raw_sentences, outfile_name)"
   ]
  },
  {
   "cell_type": "markdown",
   "metadata": {},
   "source": [
    "Create the TF-IDF matrix. `path_to_corpus_file_list` can be a list of just input files (Local) or a list of all files in the corpus (Global)"
   ]
  },
  {
   "cell_type": "code",
   "execution_count": null,
   "metadata": {},
   "outputs": [],
   "source": [
    "# path_to_seed_topics_file_list = 'data/2019.03.12_SEED_TOPICS/FILELIST.txt'\n",
    "# tfidf_dense, dictionary = create_tfidf(path_to_seed_topics_file_list, path_to_corpus_file_list = path_to_file_list, verbose = False)"
   ]
  },
  {
   "cell_type": "markdown",
   "metadata": {},
   "source": [
    "Get the top phrases for each document.  \n",
    "**TODO: This currently re-processes each sentence unnecessarily. Clean that up.**"
   ]
  },
  {
   "cell_type": "code",
   "execution_count": null,
   "metadata": {},
   "outputs": [],
   "source": [
    "# doc_top_phrases = get_doc_top_phrases(raw_docs, dictionary.token2id, tfidf_dense, window_size = 6, include_input_in_tfidf = False)"
   ]
  },
  {
   "cell_type": "markdown",
   "metadata": {},
   "source": [
    "### Create sentence vectors\n",
    "**TODO: add explanations**\n",
    "- TF-IDF\n",
    "- SVD\n",
    "- UMAP\n",
    "- Pre-trained Word2Vec embeddings\n",
    "- Create Word2Vec embeddings from input corpus"
   ]
  },
  {
   "cell_type": "code",
   "execution_count": null,
   "metadata": {},
   "outputs": [],
   "source": [
    "# doc_phrase_vecs = get_doc_word_vectors_tfidf(doc_top_phrases, dictionary, tfidf_dense)\n",
    "# # doc_phrase_vecs = get_doc_word_vectors_svd(doc_top_phrases, dictionary, tfidf_dense)\n",
    "# # doc_phrase_vecs = get_doc_word_vectors_umap(doc_top_phrases, dictionary, tfidf_dense, umap_neighbors = 15, dimensions = 2)\n",
    "# # doc_phrase_vecs = get_doc_word_vectors_pretrained(doc_top_phrases, path_to_w2v_bin_file = \"data/pubmed2018_w2v_200D.bin\")\n",
    "# # doc_phrase_vecs = get_doc_word_vectors_local(doc_top_phrases, raw_docs, my_docs)"
   ]
  },
  {
   "cell_type": "markdown",
   "metadata": {},
   "source": [
    "Filter the sentences, removing any that contain zero \"top phrases\"  \n",
    "**QUESTION: After filtering here, we never again use the filtered records in my_docs, could we filter in place to make this cleaner?**  \n",
    "**QUESTION: Is there a reason we're storing `just_phrase_ids` as a concatenated string instead of a tuple? We can always convert to string when writing to a file, but it makes for messier logic than necessary.**"
   ]
  },
  {
   "cell_type": "code",
   "execution_count": null,
   "metadata": {},
   "outputs": [],
   "source": [
    "# total_phrase_num = sum([len(phrase_vecs) for phrase_vecs in doc_phrase_vecs])\n",
    "# just_phrase_vecs, just_phrase_ids, just_phrase_text = filter_sentences(doc_phrase_vecs, doc_top_phrases)"
   ]
  },
  {
   "cell_type": "markdown",
   "metadata": {},
   "source": [
    "### Clustering\n",
    "**QUESTION: Is there still a need to save charts?**"
   ]
  },
  {
   "cell_type": "markdown",
   "metadata": {},
   "source": [
    "#### K-means Clustering\n",
    "When using K-means clustering, you can find the optimal k value from a given range. `get_optimal_k` visualizes the silhoute coefficients for a range of k values and returns the value corresponding to the max silhoute coefficient."
   ]
  },
  {
   "cell_type": "code",
   "execution_count": null,
   "metadata": {},
   "outputs": [
    {
     "data": {
      "image/png": "[encoded data removed]",
      "text/plain": [
       "<Figure size 432x288 with 1 Axes>"
      ]
     },
     "metadata": {
      "needs_background": "light"
     },
     "output_type": "display_data"
    }
   ],
   "source": [
    "# optimal_k = get_optimal_k(just_phrase_vecs, save_chart = False)\n",
    "# cluster_assignments, dist = get_cluster_assignments_kmeans(optimal_k, just_phrase_vecs)"
   ]
  },
  {
   "cell_type": "markdown",
   "metadata": {},
   "source": [
    "#### Hierarchical Agglomerative Clustering\n",
    "When using Hierarchical Agglomerative Clustering, you can find the optimal height value from a given range. `get_optimal_height` visualizes the silhoute coefficients for a range of heights and returns the value corresponding to the max silhoute coefficient."
   ]
  },
  {
   "cell_type": "code",
   "execution_count": null,
   "metadata": {},
   "outputs": [
    {
     "data": {
      "image/png": "[encoded data removed]",
      "text/plain": [
       "<Figure size 432x288 with 1 Axes>"
      ]
     },
     "metadata": {
      "needs_background": "light"
     },
     "output_type": "display_data"
    }
   ],
   "source": [
    "# linkage_matrix = get_linkage_matrix(just_phrase_vecs, \"euclidean\")\n",
    "# optimal_height = get_optimal_height(just_phrase_vecs, linkage_matrix, save_chart = False)\n",
    "# cluster_assignments = get_cluster_assignments_hac(linkage_matrix, optimal_height)"
   ]
  },
  {
   "cell_type": "markdown",
   "metadata": {},
   "source": [
    "### Visualization\n",
    "All visualization uses cosine similarity. **Why?**"
   ]
  },
  {
   "cell_type": "code",
   "execution_count": null,
   "metadata": {},
   "outputs": [],
   "source": [
    "#hide\n",
    "from gensim import corpora, models, similarities\n",
    "import matplotlib.pyplot as plt\n",
    "from medtop.nlp_helpers import *\n",
    "from medtop.preprocessing import *\n",
    "import numpy as np\n",
    "import pandas as pd\n",
    "import plotly\n",
    "import plotly.express as px\n",
    "from scipy.cluster.hierarchy import ward, cut_tree\n",
    "from sklearn.cluster import KMeans, AgglomerativeClustering\n",
    "from sklearn.manifold import MDS\n",
    "from sklearn.metrics import silhouette_score, pairwise_distances\n",
    "from sklearn.metrics.pairwise import cosine_similarity\n",
    "import os\n",
    "from sklearn.decomposition import TruncatedSVD\n",
    "import umap.umap_ as umap"
   ]
  },
  {
   "cell_type": "code",
   "execution_count": null,
   "metadata": {},
   "outputs": [],
   "source": [
    "# dist = pairwise_distances(just_phrase_vecs, metric='cosine')"
   ]
  },
  {
   "cell_type": "markdown",
   "metadata": {},
   "source": [
    "**QUESTION: Should visualization be three separate methods or a single method with optional parameters? There are a few other similar instances in the code where we could do multiple top-level methods or a single caller with kwargs**"
   ]
  },
  {
   "cell_type": "code",
   "execution_count": null,
   "metadata": {},
   "outputs": [],
   "source": [
    "# visualize_umap(just_phrase_ids, cluster_assignments, just_phrase_text, dist)\n",
    "# # visualize_mds(just_phrase_ids, cluster_assignments, just_phrase_text, dist)\n",
    "# # visualize_svd(just_phrase_ids, cluster_assignments, just_phrase_text, dist)"
   ]
  },
  {
   "cell_type": "markdown",
   "metadata": {},
   "source": [
    "**QUESTION: The variables here are named `cluster_topics`, but it seems like they're actual lists of phrases in each cluster. Need clarification**"
   ]
  },
  {
   "cell_type": "code",
   "execution_count": null,
   "metadata": {},
   "outputs": [],
   "source": [
    "# main_cluster_topics = get_cluster_topics(cluster_assignments, just_phrase_ids, my_docs)"
   ]
  },
  {
   "cell_type": "markdown",
   "metadata": {},
   "source": [
    "### Write output to files"
   ]
  },
  {
   "cell_type": "code",
   "execution_count": null,
   "metadata": {},
   "outputs": [],
   "source": [
    "# write_output_to_disk(main_cluster_topics, just_phrase_ids, cluster_assignments, raw_sentences, doc_top_phrases, file_list, file_name = \"output/TopicClusterResults.txt\")\n",
    "# evaluate(just_phrase_ids, cluster_assignments, just_phrase_text)"
   ]
  },
  {
   "cell_type": "code",
   "execution_count": null,
   "metadata": {},
   "outputs": [
    {
     "name": "stdout",
     "output_type": "stream",
     "text": [
      "Converted Core.ipynb.\n",
      "Converted helpers.ipynb.\n",
      "This cell doesn't have an export destination and was ignored:\n",
      "e\n",
      "Converted index.ipynb.\n",
      "Converted nlp_helpers.ipynb.\n",
      "Converted preprocessing.ipynb.\n",
      "Converted Sandbox.ipynb.\n"
     ]
    }
   ],
   "source": [
    "#hide\n",
    "from nbdev.export import notebook2script\n",
    "notebook2script()"
   ]
  }
 ],
 "metadata": {
  "kernelspec": {
   "display_name": "Python 3",
   "language": "python",
   "name": "python3"
  }
 },
 "nbformat": 4,
 "nbformat_minor": 2
}
