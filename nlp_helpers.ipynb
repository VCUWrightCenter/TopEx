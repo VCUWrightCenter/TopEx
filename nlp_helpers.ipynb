{
 "cells": [
  {
   "cell_type": "code",
   "execution_count": null,
   "metadata": {},
   "outputs": [],
   "source": [
    "# default_exp nlp_helpers"
   ]
  },
  {
   "cell_type": "code",
   "execution_count": null,
   "metadata": {},
   "outputs": [],
   "source": [
    "#export\n",
    "import gensim\n",
    "from medtop.preprocessing import *\n",
    "import nltk\n",
    "import numpy\n",
    "import os\n",
    "from textblob import TextBlob"
   ]
  },
  {
   "cell_type": "markdown",
   "metadata": {},
   "source": [
    "# NLP Helpers\n",
    "\n",
    "> Helper methods for Natural Language Processing"
   ]
  },
  {
   "cell_type": "code",
   "execution_count": null,
   "metadata": {},
   "outputs": [],
   "source": [
    "#hide\n",
    "from nbdev.showdoc import *"
   ]
  },
  {
   "cell_type": "code",
   "execution_count": null,
   "metadata": {},
   "outputs": [],
   "source": [
    "#export\n",
    "def get_term_averages(tdm):\n",
    "    #print(len(tdm))\n",
    "    #print(len(tdm[0]))\n",
    "    \n",
    "    avg_vec = numpy.zeros(len(tdm))\n",
    "    for i in range(0,len(tdm)):\n",
    "        for j in range(0,len(tdm[0])):\n",
    "            avg_vec[i] = avg_vec[i] + tdm[i,j]\n",
    "        avg_vec[i] = avg_vec[i]/len(tdm[0])\n",
    "    \n",
    "    return(avg_vec)"
   ]
  },
  {
   "cell_type": "code",
   "execution_count": null,
   "metadata": {},
   "outputs": [],
   "source": [
    "#export\n",
    "def get_term_max(tdm):\n",
    "    avg_vec = numpy.zeros(len(tdm))\n",
    "    for i in range(0,len(tdm)):\n",
    "        avg_vec[i] = max(tdm[i])\n",
    "    \n",
    "    return(avg_vec)"
   ]
  },
  {
   "cell_type": "code",
   "execution_count": null,
   "metadata": {},
   "outputs": [],
   "source": [
    "#export\n",
    "def get_top_phrases(text_id, text, feature_names, tdm, size, include_input_in_tfidf):\n",
    "    \"\"\"\n",
    "    Gets top phrase for each sentence and returns them as a list of lists  \n",
    "    One entry for each sentence.  If there are no phrases then a \"none\" is returned for that sentences value.\n",
    "    \"\"\"\n",
    "    if not include_input_in_tfidf:\n",
    "        token_averages = get_term_max(tdm)\n",
    "    \n",
    "    \n",
    "    top_sent_phrases = []\n",
    "    #print(\"Processing Doc: \" + str(text_id))\n",
    "    for sentence in nltk.sent_tokenize(text):\n",
    "        \n",
    "        sent_tokens, sent_tokens_pos, sent_tokens_loc, my_tokens, my_pos_tags, my_loc, d1, d2, d3, d4 = tokenize_and_stem(sentence)\n",
    "        \n",
    "        sent_token_scores = []\n",
    "        phrase_scores = []\n",
    "        for p in range(size,len(my_tokens)+1):\n",
    "            phrase = my_tokens[p-size:p]\n",
    "            phrase_pos = my_pos_tags[p-size:p]\n",
    "            phrase_loc = my_loc[p-size:p]\n",
    "            weight = 1 + abs(TextBlob(\" \".join(phrase)).sentiment.polarity)\n",
    "            score = 0\n",
    "            \n",
    "            ## get tokens and associated POS tags that are in the TF-IDF matrix\n",
    "            avaliable_tokens = []\n",
    "            avaliable_pos = []\n",
    "            avaliable_loc = []\n",
    "            \n",
    "            for n in range(0, len(phrase)):\n",
    "                if phrase[n] in list(feature_names.keys()):\n",
    "                    avaliable_tokens.append(phrase[n])\n",
    "                    avaliable_pos.append(phrase_pos[n])\n",
    "                    avaliable_loc.append(phrase_loc[n])\n",
    "            \n",
    "            #new_vec = dictionary.doc2bow(phrase[1]) #convert phrase to a vector of ids and counts\n",
    "            #vec_ids = [x[0] for x in new_vec]  #get word IDs in dictionary\n",
    "            \n",
    "            for t in range(0, len(avaliable_tokens)):\n",
    "                \n",
    "                if avaliable_pos[t][1] in [\"JJ\",\"JJR\", \"JJS\", \"RB\", \"RBR\", \"RBS\"]:\n",
    "                    #print(\"Found adverb or adjective\")\n",
    "                    index = feature_names[avaliable_tokens[t]]\n",
    "                    if include_input_in_tfidf:\n",
    "                        score += tdm[index, text_id]*3\n",
    "                    else:\n",
    "                        score += token_averages[index]*3       \n",
    "                else:\n",
    "                    #print(\"not JJ or RB\")\n",
    "                    index = feature_names[avaliable_tokens[t]]\n",
    "                    if include_input_in_tfidf:\n",
    "                        score += tdm[index, text_id]\n",
    "                    else:\n",
    "                        score += token_averages[index]\n",
    "            \n",
    "            phrase_scores.append((score*weight, phrase, phrase_loc))\n",
    "            \n",
    "        ## sort phrase scores for this sentence and choose the highest to represent sentence\n",
    "        phrase_scores.sort(key=lambda sent: sent[0], reverse=True)\n",
    "        top_sent_phrases.append(phrase_scores[0]) if len(phrase_scores) > 0 else top_sent_phrases.append(\"none\")\n",
    "    \n",
    "    return top_sent_phrases"
   ]
  },
  {
   "cell_type": "code",
   "execution_count": null,
   "metadata": {},
   "outputs": [],
   "source": [
    "#export\n",
    "def get_vec(term, dictionary, u):\n",
    "    p_vec = numpy.zeros(len(u[0]))\n",
    "    new_vec = dictionary.doc2bow([term]) #convert phrase to a vector of ids and counts\n",
    "    vec_ids = [x[0] for x in new_vec]  #get word IDs in dictionary\n",
    "    for i in vec_ids:\n",
    "        # get the SVD vector for this word ID\n",
    "        p_vec = p_vec + u[i]\n",
    "    \n",
    "    return p_vec"
   ]
  },
  {
   "cell_type": "code",
   "execution_count": null,
   "metadata": {},
   "outputs": [],
   "source": [
    "#export\n",
    "def get_phrase_vec_tfidf(doc_top_phrases, dictionary, term_matrix):  \n",
    "    doc_phrase_vecs = []  \n",
    "    for doc in doc_top_phrases:\n",
    "        phrases_vec = []\n",
    "        for phrase in doc:\n",
    "            p_vec = numpy.zeros(len(term_matrix[0]))\n",
    "        \n",
    "            if phrase is not \"none\":\n",
    "                new_vec = dictionary.doc2bow(phrase[1]) #convert phrase to a vector of ids and counts\n",
    "                vec_ids = [x[0] for x in new_vec]  #get word IDs in dictionary\n",
    "                for i in vec_ids:\n",
    "                    p_vec = p_vec + term_matrix[i]\n",
    "                \n",
    "            phrases_vec.append(p_vec)#/len(phrase))\n",
    "        doc_phrase_vecs.append(phrases_vec)\n",
    "    return(doc_phrase_vecs)"
   ]
  },
  {
   "cell_type": "code",
   "execution_count": null,
   "metadata": {},
   "outputs": [],
   "source": [
    "#export\n",
    "def get_phrase_vec_w2v(doc_top_phrases, model2):\n",
    "    doc_phrase_vecs = []\n",
    "\n",
    "    for doc in doc_top_phrases:\n",
    "        phrases_vec = []\n",
    "        for phrase in doc:\n",
    "            p_vec = 0\n",
    "        \n",
    "            if phrase is not \"none\":\n",
    "                for tok in phrase[1]:\n",
    "                    if tok in model2.wv.vocab:\n",
    "                        p_vec = p_vec + model2.wv[tok] \n",
    "                    else:\n",
    "                        print(tok + \": not in Corpus\")\n",
    "                \n",
    "            phrases_vec.append(p_vec)#/len(phrase))\n",
    "        doc_phrase_vecs.append(phrases_vec)\n",
    "    return doc_phrase_vecs"
   ]
  },
  {
   "cell_type": "code",
   "execution_count": null,
   "metadata": {},
   "outputs": [],
   "source": [
    "#export\n",
    "def average_sent_size(my_docs):\n",
    "    doc_sum = 0\n",
    "\n",
    "    for doc in my_docs:\n",
    "        sent_sum = 0\n",
    "        #print(\"Doc Length\" + str(len(doc)))\n",
    "        for sent in doc:\n",
    "            sent_sum = sent_sum + len(sent)\n",
    "            #print(\"Sent Length\" + str(len(sent)))\n",
    "            #print(\"Sentence:\" + str(sent))\n",
    "        \n",
    "        if len(doc) > 0:\n",
    "            doc_sum = doc_sum + sent_sum/len(doc)\n",
    "\n",
    "    total_average = doc_sum/len(my_docs)\n",
    "    return(total_average)"
   ]
  },
  {
   "cell_type": "code",
   "execution_count": null,
   "metadata": {},
   "outputs": [],
   "source": [
    "#export\n",
    "def w2v_from_corpus(file_content, my_docs):\n",
    "    ##extract all sentences from each doc into one large sentence vector\n",
    "    ## so each document is just a bag of words\n",
    "    large_sent_vec = []\n",
    "    for doc in file_content:\n",
    "        flattened_list = [y for x in tokenize_and_stem(doc)[6] for y in x]\n",
    "        large_sent_vec.append(flattened_list)\n",
    "    \n",
    "    sent_avg_size = average_sent_size(my_docs)\n",
    "\n",
    "    model2 = gensim.models.Word2Vec(sg=1, window = 6, max_vocab_size = None, min_count=1, size = 10, iter=500)\n",
    "    model2.build_vocab(large_sent_vec)\n",
    "    model2.train(large_sent_vec, total_examples=model2.corpus_count, epochs=model2.iter)\n",
    "    return(model2)"
   ]
  },
  {
   "cell_type": "code",
   "execution_count": null,
   "metadata": {},
   "outputs": [],
   "source": [
    "#export\n",
    "def w2v_pretrained(bin_file):\n",
    "    return gensim.models.KeyedVectors.load_word2vec_format(bin_file, binary=True)"
   ]
  },
  {
   "cell_type": "code",
   "execution_count": null,
   "metadata": {},
   "outputs": [],
   "source": [
    "#hide\n",
    "from nbdev.export import notebook2script\n",
    "notebook2script()"
   ]
  }
 ],
 "metadata": {
  "kernelspec": {
   "display_name": "Python 3",
   "language": "python",
   "name": "python3"
  }
 },
 "nbformat": 4,
 "nbformat_minor": 2
}
