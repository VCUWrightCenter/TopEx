{
 "cells": [
  {
   "cell_type": "code",
   "execution_count": null,
   "metadata": {},
   "outputs": [],
   "source": [
    "# default_exp nlp_helpers"
   ]
  },
  {
   "cell_type": "code",
   "execution_count": null,
   "metadata": {},
   "outputs": [],
   "source": [
    "#export\n",
    "import gensim\n",
    "from medtop.preprocessing import *\n",
    "import nltk\n",
    "import numpy\n",
    "import os\n",
    "from textblob import TextBlob"
   ]
  },
  {
   "cell_type": "markdown",
   "metadata": {},
   "source": [
    "# NLP Helpers\n",
    "\n",
    "> Helper methods for Natural Language Processing"
   ]
  },
  {
   "cell_type": "code",
   "execution_count": null,
   "metadata": {},
   "outputs": [],
   "source": [
    "#hide\n",
    "from nbdev.showdoc import *"
   ]
  },
  {
   "cell_type": "code",
   "execution_count": null,
   "metadata": {},
   "outputs": [],
   "source": [
    "#export\n",
    "def get_term_averages(tdm):    \n",
    "    avg_vec = numpy.zeros(len(tdm))\n",
    "    for i in range(0,len(tdm)):\n",
    "        for j in range(0,len(tdm[0])):\n",
    "            avg_vec[i] = avg_vec[i] + tdm[i,j]\n",
    "        avg_vec[i] = avg_vec[i]/len(tdm[0])\n",
    "    \n",
    "    return(avg_vec)"
   ]
  },
  {
   "cell_type": "code",
   "execution_count": null,
   "metadata": {},
   "outputs": [],
   "source": [
    "#export\n",
    "def get_term_max(tdm):\n",
    "    avg_vec = numpy.zeros(len(tdm))\n",
    "    for i in range(0,len(tdm)):\n",
    "        avg_vec[i] = max(tdm[i])\n",
    "    \n",
    "    return(avg_vec)"
   ]
  },
  {
   "cell_type": "code",
   "execution_count": null,
   "metadata": {},
   "outputs": [],
   "source": [
    "#export\n",
    "def get_vec(term, dictionary, u):\n",
    "    p_vec = numpy.zeros(len(u[0]))\n",
    "    new_vec = dictionary.doc2bow([term]) #convert phrase to a vector of ids and counts\n",
    "    vec_ids = [x[0] for x in new_vec]  #get word IDs in dictionary\n",
    "    for i in vec_ids:\n",
    "        # get the SVD vector for this word ID\n",
    "        p_vec = p_vec + u[i]\n",
    "    \n",
    "    return p_vec"
   ]
  },
  {
   "cell_type": "code",
   "execution_count": null,
   "metadata": {},
   "outputs": [],
   "source": [
    "#export\n",
    "def get_phrase_vec_tfidf(doc_top_phrases, dictionary, term_matrix):  \n",
    "    doc_phrase_vecs = []  \n",
    "    for doc in doc_top_phrases:\n",
    "        phrases_vec = []\n",
    "        for phrase in doc:\n",
    "            p_vec = numpy.zeros(len(term_matrix[0]))\n",
    "        \n",
    "            if phrase is not \"none\":\n",
    "                new_vec = dictionary.doc2bow(phrase[1]) #convert phrase to a vector of ids and counts\n",
    "                vec_ids = [x[0] for x in new_vec]  #get word IDs in dictionary\n",
    "                for i in vec_ids:\n",
    "                    p_vec = p_vec + term_matrix[i]\n",
    "                \n",
    "            phrases_vec.append(p_vec)#/len(phrase))\n",
    "        doc_phrase_vecs.append(phrases_vec)\n",
    "    return(doc_phrase_vecs)"
   ]
  },
  {
   "cell_type": "code",
   "execution_count": null,
   "metadata": {},
   "outputs": [],
   "source": [
    "#export\n",
    "def get_phrase_vec_w2v(doc_top_phrases, model2):\n",
    "    doc_phrase_vecs = []\n",
    "\n",
    "    for doc in doc_top_phrases:\n",
    "        phrases_vec = []\n",
    "        for phrase in doc:\n",
    "            p_vec = 0\n",
    "        \n",
    "            if phrase is not \"none\":\n",
    "                for tok in phrase[1]:\n",
    "                    if tok in model2.wv.vocab:\n",
    "                        p_vec = p_vec + model2.wv[tok] \n",
    "                    else:\n",
    "                        print(tok + \": not in Corpus\")\n",
    "                \n",
    "            phrases_vec.append(p_vec)#/len(phrase))\n",
    "        doc_phrase_vecs.append(phrases_vec)\n",
    "    return doc_phrase_vecs"
   ]
  },
  {
   "cell_type": "code",
   "execution_count": null,
   "metadata": {},
   "outputs": [],
   "source": [
    "#export\n",
    "def average_sent_size(my_docs):\n",
    "    doc_sum = 0\n",
    "\n",
    "    for doc in my_docs:\n",
    "        sent_sum = 0\n",
    "        #print(\"Doc Length\" + str(len(doc)))\n",
    "        for sent in doc:\n",
    "            sent_sum = sent_sum + len(sent)\n",
    "            #print(\"Sent Length\" + str(len(sent)))\n",
    "            #print(\"Sentence:\" + str(sent))\n",
    "        \n",
    "        if len(doc) > 0:\n",
    "            doc_sum = doc_sum + sent_sum/len(doc)\n",
    "\n",
    "    total_average = doc_sum/len(my_docs)\n",
    "    return(total_average)"
   ]
  },
  {
   "cell_type": "code",
   "execution_count": null,
   "metadata": {},
   "outputs": [],
   "source": [
    "#export\n",
    "def w2v_from_corpus(file_content, my_docs):\n",
    "    ##extract all sentences from each doc into one large sentence vector\n",
    "    ## so each document is just a bag of words\n",
    "    large_sent_vec = []\n",
    "    for doc in file_content:\n",
    "        flattened_list = [y for x in tokenize_and_stem(doc)[6] for y in x]\n",
    "        large_sent_vec.append(flattened_list)\n",
    "    \n",
    "    sent_avg_size = average_sent_size(my_docs)\n",
    "\n",
    "    model2 = gensim.models.Word2Vec(sg=1, window = 6, max_vocab_size = None, min_count=1, size = 10, iter=500)\n",
    "    model2.build_vocab(large_sent_vec)\n",
    "    model2.train(large_sent_vec, total_examples=model2.corpus_count, epochs=model2.iter)\n",
    "    return(model2)"
   ]
  },
  {
   "cell_type": "code",
   "execution_count": null,
   "metadata": {},
   "outputs": [],
   "source": [
    "#export\n",
    "def w2v_pretrained(bin_file):\n",
    "    return gensim.models.KeyedVectors.load_word2vec_format(bin_file, binary=True)"
   ]
  },
  {
   "cell_type": "code",
   "execution_count": null,
   "metadata": {},
   "outputs": [
    {
     "name": "stdout",
     "output_type": "stream",
     "text": [
      "Converted Core.ipynb.\n",
      "Converted helpers.ipynb.\n",
      "Converted index.ipynb.\n",
      "Converted nlp_helpers.ipynb.\n",
      "Converted preprocessing.ipynb.\n",
      "Converted Sandbox.ipynb.\n"
     ]
    }
   ],
   "source": [
    "#hide\n",
    "from nbdev.export import notebook2script\n",
    "notebook2script()"
   ]
  }
 ],
 "metadata": {
  "kernelspec": {
   "display_name": "Python 3",
   "language": "python",
   "name": "python3"
  }
 },
 "nbformat": 4,
 "nbformat_minor": 2
}
