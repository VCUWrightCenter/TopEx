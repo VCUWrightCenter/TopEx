{
 "cells": [
  {
   "cell_type": "code",
   "execution_count": null,
   "metadata": {},
   "outputs": [],
   "source": [
    "# default_exp preprocessing"
   ]
  },
  {
   "cell_type": "code",
   "execution_count": null,
   "metadata": {},
   "outputs": [],
   "source": [
    "#export\n",
    "import nltk\n",
    "from nltk.tokenize import WhitespaceTokenizer\n",
    "from nltk.corpus import stopwords\n",
    "import string\n",
    "import re"
   ]
  },
  {
   "cell_type": "markdown",
   "metadata": {},
   "source": [
    "# Preprocessing\n",
    "\n",
    "> Methods for preprocessing raw text data"
   ]
  },
  {
   "cell_type": "code",
   "execution_count": null,
   "metadata": {},
   "outputs": [],
   "source": [
    "#hide\n",
    "from nbdev.showdoc import *"
   ]
  },
  {
   "cell_type": "code",
   "execution_count": null,
   "metadata": {},
   "outputs": [],
   "source": [
    "#export\n",
    "def decontracted(text):\n",
    "    \"Removes contractions from input `text`. Credit: https://stackoverflow.com/questions/19790188/expanding-english-language-contractions-in-python\"\n",
    "    contractions = [\n",
    "        (r\"won\\'t\", \"will not\"),\n",
    "        (r\"can\\'t\", \"can not\"),\n",
    "        (r\"hadn\\'t\", \"had not\"),\n",
    "        (r\"doesnt\", \"does not\"),\n",
    "        (r\"youre\", \"you are\"),\n",
    "        (r\"dont\", \"do not\"),\n",
    "        (r\"im\\s\", \"i am\"),\n",
    "        (r\"ive\\s\", \"i have\"),\n",
    "        (r\"won\\'t\", \"will not\"),\n",
    "        (r\"can\\'t\", \"can not\"),\n",
    "        (r\"hadn\\'t\", \"had not\"),\n",
    "        (r\"dont\\s\", \"do not\"), \n",
    "        (r\"n\\'t\", \" not\"),\n",
    "        (r\"\\'re\", \" are\"),\n",
    "        (r\"\\'s\", \" is\"),\n",
    "        (r\"\\'d\", \" would\"),\n",
    "        (r\"\\'ll\", \" will\"),\n",
    "        (r\"\\'t\", \" not\"),\n",
    "        (r\"\\'ve\", \" have\"),\n",
    "        (r\"\\'m\", \" am\")\n",
    "    ]\n",
    "    \n",
    "    # Replace any contractions with their decontracted equivalent\n",
    "    for contraction, decontracted in contractions:\n",
    "        text = re.sub(contraction, decontracted, text)\n",
    "        \n",
    "    text = re.sub(r\"/\", \" \", text) ### I added this line (Amy)\n",
    "    return text"
   ]
  },
  {
   "cell_type": "code",
   "execution_count": null,
   "metadata": {},
   "outputs": [],
   "source": [
    "#export\n",
    "def token_filter(token, stop_words):\n",
    "    \"Returns False for stop words and tokens with no alpha characters, otherwise, True\"\n",
    "    match = re.match('[A-z]', token)\n",
    "    return match is not None and token not in stop_words"
   ]
  },
  {
   "cell_type": "code",
   "execution_count": null,
   "metadata": {},
   "outputs": [],
   "source": [
    "# token_filter tests\n",
    "stop_words = ['stop_word']\n",
    "assert token_filter('token', stop_words) == True\n",
    "assert token_filter('TOKEN', stop_words) == True\n",
    "assert token_filter('under_score', stop_words) == True\n",
    "assert token_filter('a1c', stop_words) == True\n",
    "assert token_filter('stop_word', stop_words) == False\n",
    "assert token_filter('1', stop_words) == False\n",
    "assert token_filter(' ', stop_words) == False"
   ]
  },
  {
   "cell_type": "code",
   "execution_count": null,
   "metadata": {},
   "outputs": [],
   "source": [
    "#export\n",
    "def tokenize_and_stem(text):\n",
    "    \"Parse out sentences, remove contractions, tokenize by white space, and remove all punctuation, and lemmatize tokens\"\n",
    "    lemmatizer = nltk.WordNetLemmatizer()\n",
    "    custom_stop_words = {\"patient\",\"mrs\",\"hi\",\"ob\",\"1am\",\"4month\",\"o2\",\"ed\",\"ecmo\",\"m3\",\"ha\",\"3rd\",\"ai\",\"csicu\",\"wa\",\"first\",\n",
    "                         \"second\",\"third\",\"fourth\",\"etc\",\"eg\",\"thus\",\",\",\".\",\"'\",\"(\",\")\",\"!\",\"...\",\"'m\",\"'s\",'\"',\"?\", \"`\",\n",
    "                         \"say\",\"many\",\"things\",\"new\",\"much\",\"get\",\"really\",\"since\",\"way\",\"also\",\"one\",\"two\",\"three\",\"four\",\n",
    "                         \"five\",\"six\",\"week\",\"day\",\"month\",\"year\",\"would\",\"could\",\"should\",\"like\",\"im\",\"thing\",\"v\",\"u\",\"d\",\"g\"}\n",
    "    stop_words = set(stopwords.words('english')) | custom_stop_words\n",
    "    table  = str.maketrans(' ', ' ', string.punctuation+\"“\"+\"”\")\n",
    "    sent = nltk.sent_tokenize(text)\n",
    "    split_sent = []\n",
    "    raw_sent = []\n",
    "    \n",
    "    #For each sentence in document get back the list of tokenized words with contractions normalized and punctuation removed\n",
    "    for s in sent:   \n",
    "        raw_sent.append(s)\n",
    "        tokenized = WhitespaceTokenizer().tokenize(decontracted(s).translate(table))\n",
    "        \n",
    "        # Lemmatize and convert to lowercase\n",
    "        lemma = [lemmatizer.lemmatize(t).lower() for t in tokenized]\n",
    "\n",
    "        # Filter out stopwords (including some punctuation) and tokens with no alpha characters\n",
    "        filtered_tokens = [token for token in lemma if token_filter(token, stop_words)]   \n",
    "        split_sent.append(filtered_tokens)\n",
    "\n",
    "    return split_sent, raw_sent"
   ]
  },
  {
   "cell_type": "code",
   "execution_count": null,
   "metadata": {},
   "outputs": [],
   "source": [
    "#export\n",
    "def tokenize_and_stem_original(text):\n",
    "    \"\"\"\n",
    "    Original method which parses POS and LOC. `tokenize_and_stem` is a stripped down version of this. \\n\n",
    "    Parse out sentences, remove contractions, tokenize by white space, and remove all punctuation, and lemmatize tokens\n",
    "    \"\"\"\n",
    "    lemmatizer = nltk.WordNetLemmatizer()\n",
    "    my_tokens = []\n",
    "    my_pos_tags = []\n",
    "    my_loc = []\n",
    "    full_sent = []\n",
    "    full_pos = []\n",
    "    full_loc = []    \n",
    "    raw_sent = []\n",
    "    custom_stop_words = {\"patient\",\"mrs\",\"hi\",\"ob\",\"1am\",\"4month\",\"o2\",\"ed\",\"ecmo\",\"m3\",\"ha\",\"3rd\",\"ai\",\"csicu\",\"wa\",\"first\",\n",
    "                         \"second\",\"third\",\"fourth\",\"etc\",\"eg\",\"thus\",\",\",\".\",\"'\",\"(\",\")\",\"!\",\"...\",\"'m\",\"'s\",'\"',\"?\", \"`\",\n",
    "                         \"say\",\"many\",\"things\",\"new\",\"much\",\"get\",\"really\",\"since\",\"way\",\"also\",\"one\",\"two\",\"three\",\"four\",\n",
    "                         \"five\",\"six\",\"week\",\"day\",\"month\",\"year\",\"would\",\"could\",\"should\",\"like\",\"im\",\"thing\",\"v\",\"u\",\"d\",\"g\"}\n",
    "    \n",
    "    stop_words = set(stopwords.words('english')) | custom_stop_words\n",
    "    table  = str.maketrans(' ', ' ', string.punctuation+\"“\"+\"”\")\n",
    "    sent = nltk.sent_tokenize(text)\n",
    "    split_sent = []\n",
    "    split_sent_pos = []\n",
    "    split_sent_loc = []\n",
    "    \n",
    "    #For each sentence in document get back the list of tokenized words with contractions normalized and punctuation removed\n",
    "    for s in sent:   \n",
    "        raw_sent.append(s)\n",
    "        tokenized = WhitespaceTokenizer().tokenize(decontracted(s).translate(table))\n",
    "        tags = nltk.pos_tag(tokenized)\n",
    "        lemma = [lemmatizer.lemmatize(t) for t in tokenized]\n",
    "        #convert all remaining tokens to lowercase\n",
    "        f2 = [w.lower() for w in lemma]\n",
    "        \n",
    "        loc2 = list(range(0, len(f2)))\n",
    "        \n",
    "        #remove stopwords and some punctuation\n",
    "        f3 = []\n",
    "        t3 = []\n",
    "        loc3 = []\n",
    "        for w in range(0,len(f2)):\n",
    "            if f2[w] not in stop_words:\n",
    "                f3.append(f2[w])\n",
    "                t3.append(tags[w])\n",
    "                loc3.append(loc2[w])\n",
    "            \n",
    "        # filter out any tokens not containing letters (e.g., numeric tokens, raw punctuation)\n",
    "        filtered_tokens = []\n",
    "        filtered_tags = []\n",
    "        filtered_loc = []\n",
    "        for t in range(0, len(f3)):\n",
    "            if re.search('[a-zA-Z]', f3[t]):\n",
    "                filtered_tokens.append(f3[t])\n",
    "                filtered_tags.append(t3[t])\n",
    "                filtered_loc.append(loc3[t])\n",
    "        \n",
    "        split_sent.append(filtered_tokens)\n",
    "        split_sent_pos.append(filtered_tags)\n",
    "        split_sent_loc.append(filtered_loc)\n",
    "        my_tokens = my_tokens + filtered_tokens\n",
    "        my_pos_tags = my_pos_tags + filtered_tags\n",
    "        my_loc = my_loc + filtered_loc\n",
    "        \n",
    "        full_sent.append(f2)\n",
    "        full_pos.append(tags)\n",
    "        full_loc.append(loc2)\n",
    "\n",
    "    return split_sent, split_sent_pos, split_sent_loc, my_tokens, my_pos_tags, my_loc, full_sent, full_pos, full_loc, raw_sent"
   ]
  },
  {
   "cell_type": "code",
   "execution_count": null,
   "metadata": {},
   "outputs": [
    {
     "name": "stdout",
     "output_type": "stream",
     "text": [
      "Converted Core.ipynb.\n",
      "Converted helpers.ipynb.\n",
      "Converted index.ipynb.\n",
      "Converted nlp_helpers.ipynb.\n",
      "Converted preprocessing.ipynb.\n",
      "Converted Sandbox.ipynb.\n"
     ]
    }
   ],
   "source": [
    "#hide\n",
    "from nbdev.export import notebook2script\n",
    "notebook2script()"
   ]
  }
 ],
 "metadata": {
  "kernelspec": {
   "display_name": "Python 3",
   "language": "python",
   "name": "python3"
  }
 },
 "nbformat": 4,
 "nbformat_minor": 2
}
