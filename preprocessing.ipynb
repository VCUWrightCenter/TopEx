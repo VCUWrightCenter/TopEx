{
 "cells": [
  {
   "cell_type": "code",
   "execution_count": null,
   "metadata": {},
   "outputs": [],
   "source": [
    "# default_exp preprocessing"
   ]
  },
  {
   "cell_type": "code",
   "execution_count": null,
   "metadata": {},
   "outputs": [],
   "source": [
    "#export\n",
    "import nltk\n",
    "from nltk.tokenize import WhitespaceTokenizer\n",
    "from nltk.corpus import stopwords\n",
    "import string\n",
    "import re"
   ]
  },
  {
   "cell_type": "markdown",
   "metadata": {},
   "source": [
    "# Preprocessing\n",
    "\n",
    "> Methods for preprocessing raw text data"
   ]
  },
  {
   "cell_type": "code",
   "execution_count": null,
   "metadata": {},
   "outputs": [],
   "source": [
    "#hide\n",
    "from nbdev.showdoc import *"
   ]
  },
  {
   "cell_type": "code",
   "execution_count": null,
   "metadata": {},
   "outputs": [],
   "source": [
    "#export\n",
    "def decontracted(phrase):\n",
    "    \"\"\"\n",
    "    Removes contractions from `phrase`\\n\n",
    "    Obtainined from https://stackoverflow.com/questions/19790188/expanding-english-language-contractions-in-python\n",
    "    \"\"\"\n",
    "    # specific\n",
    "    phrase = re.sub(r\"won\\'t\", \"will not\", phrase)\n",
    "    phrase = re.sub(r\"can\\'t\", \"can not\", phrase)\n",
    "    phrase = re.sub(r\"hadn\\'t\", \"had not\", phrase)\n",
    "    phrase = re.sub(r\"doesnt\", \"does not\", phrase)\n",
    "    phrase = re.sub(r\"youre\", \"you are\", phrase)\n",
    "    phrase = re.sub(r\"dont\", \"do not\", phrase)\n",
    "    phrase = re.sub(r\"im\\s\", \"i am\", phrase)\n",
    "    phrase = re.sub(r\"ive\\s\", \"i have\", phrase)\n",
    "    \n",
    "    phrase = re.sub(r\"won\\’t\", \"will not\", phrase)\n",
    "    phrase = re.sub(r\"can\\’t\", \"can not\", phrase)\n",
    "    phrase = re.sub(r\"hadn\\’t\", \"had not\", phrase)\n",
    "    phrase = re.sub(r\"dont\\s\", \"do not\", phrase)\n",
    "    \n",
    "\n",
    "    # general\n",
    "    #phrase = re.sub(r\"n\\'t\", \" not\", phrase)\n",
    "    #phrase = re.sub(r\"\\'re\", \" are\", phrase)\n",
    "    #phrase = re.sub(r\"\\'s\", \" is\", phrase)\n",
    "    #phrase = re.sub(r\"\\'d\", \" would\", phrase)\n",
    "    #phrase = re.sub(r\"\\'ll\", \" will\", phrase)\n",
    "    #phrase = re.sub(r\"\\'t\", \" not\", phrase)\n",
    "    #phrase = re.sub(r\"\\'ve\", \" have\", phrase)\n",
    "    #phrase = re.sub(r\"\\'m\", \" am\", phrase)\n",
    "    \n",
    "    phrase = re.sub(r\"n\\’t\", \" not\", phrase)\n",
    "    phrase = re.sub(r\"\\’re\", \" are\", phrase)\n",
    "    phrase = re.sub(r\"\\’s\", \" is\", phrase)\n",
    "    phrase = re.sub(r\"\\’d\", \" would\", phrase)\n",
    "    phrase = re.sub(r\"\\’ll\", \" will\", phrase)\n",
    "    phrase = re.sub(r\"\\’t\", \" not\", phrase)\n",
    "    phrase = re.sub(r\"\\’ve\", \" have\", phrase)\n",
    "    phrase = re.sub(r\"\\’m\", \" am\", phrase)\n",
    "    \n",
    "    phrase = re.sub(r\"/\", \" \", phrase) ### I added this line\n",
    "    return phrase"
   ]
  },
  {
   "cell_type": "code",
   "execution_count": null,
   "metadata": {},
   "outputs": [],
   "source": [
    "#export\n",
    "def tokenize_and_stem2(text):\n",
    "    split_sent, split_sent_pos, split_sent_loc, my_tokens, my_pos_tags, my_loc, full_sent, full_pos, full_loc, raw_sent = tokenize_and_stem(text)\n",
    "    return my_tokens"
   ]
  },
  {
   "cell_type": "code",
   "execution_count": null,
   "metadata": {},
   "outputs": [],
   "source": [
    "#export\n",
    "def tokenize_and_stem(text):\n",
    "    \"Parse out sentences, remove contractions, tokenize by white space, and remove all punctuation, and lemmatize tokens\"\n",
    "    lemmatizer = nltk.WordNetLemmatizer()\n",
    "    my_tokens = []\n",
    "    my_pos_tags = []\n",
    "    my_loc = []\n",
    "    full_sent = []\n",
    "    full_pos = []\n",
    "    full_loc = []    \n",
    "    raw_sent = []        \n",
    "    stop_words = set(stopwords.words('english')) | {\"patient\",\"mrs\",\"hi\",\"ob\",\"1am\",\"4month\",\"o2\",\"ed\",\n",
    "                                                    \"ecmo\",\"m3\",\"ha\",\"3rd\",\"ai\",\"csicu\",\"wa\",\"first\",\n",
    "                                                    \"second\",\"third\",\"fourth\",\"etc\",\"eg\",\"thus\",\n",
    "                                                    \",\",\".\",\"'\",\"(\",\")\",\"!\",\"...\",\"'m\",\"'s\",'\"',\"?\", \"`\",\n",
    "                                                    \"say\",\"many\",\"things\",\"new\",\"much\",\"get\",\"really\",\"since\",\n",
    "                                                    \"way\",\"also\",\"one\",\"two\",\"three\",\"four\",\"five\",\"six\",\"week\",\"day\",\n",
    "                                                    \"month\",\"year\",\"would\",\"could\",\"should\",\"like\",\"im\",\"thing\",\"v\",\"u\",\"d\",\"g\"}\n",
    "    table  = str.maketrans(' ', ' ', string.punctuation+\"“\"+\"”\")\n",
    "    sent = nltk.sent_tokenize(text)\n",
    "    split_sent = []\n",
    "    split_sent_pos = []\n",
    "    split_sent_loc = []\n",
    "    \n",
    "    #For each sentence in document get back the list of tokenized words with contractions normalized and punctuation removed\n",
    "    for s in sent:   \n",
    "        raw_sent.append(s)\n",
    "        tokenized = WhitespaceTokenizer().tokenize(decontracted(s).translate(table))\n",
    "        tags = nltk.pos_tag(tokenized)\n",
    "        lemma = [lemmatizer.lemmatize(t) for t in tokenized]\n",
    "        #convert all remaining tokens to lowercase\n",
    "        f2 = [w.lower() for w in lemma]\n",
    "        \n",
    "        loc2 = list(range(0, len(f2)))\n",
    "        \n",
    "        #remove stopwords and some punctuation\n",
    "        f3 = []\n",
    "        t3 = []\n",
    "        loc3 = []\n",
    "        for w in range(0,len(f2)):\n",
    "            if f2[w] not in stop_words:\n",
    "                f3.append(f2[w])\n",
    "                t3.append(tags[w])\n",
    "                loc3.append(loc2[w])\n",
    "            \n",
    "        # filter out any tokens not containing letters (e.g., numeric tokens, raw punctuation)\n",
    "        filtered_tokens = []\n",
    "        filtered_tags = []\n",
    "        filtered_loc = []\n",
    "        for t in range(0, len(f3)):\n",
    "            if re.search('[a-zA-Z]', f3[t]):\n",
    "                filtered_tokens.append(f3[t])\n",
    "                filtered_tags.append(t3[t])\n",
    "                filtered_loc.append(loc3[t])\n",
    "        #print(filtered_loc)\n",
    "        \n",
    "        split_sent.append(filtered_tokens)\n",
    "        split_sent_pos.append(filtered_tags)\n",
    "        split_sent_loc.append(filtered_loc)\n",
    "        my_tokens = my_tokens + filtered_tokens\n",
    "        my_pos_tags = my_pos_tags + filtered_tags\n",
    "        my_loc = my_loc + filtered_loc\n",
    "        \n",
    "        full_sent.append(f2)\n",
    "        full_pos.append(tags)\n",
    "        full_loc.append(loc2)\n",
    "        \n",
    "        #print(split_sent_loc)\n",
    "    return split_sent, split_sent_pos, split_sent_loc, my_tokens, my_pos_tags, my_loc, full_sent, full_pos, full_loc, raw_sent"
   ]
  },
  {
   "cell_type": "markdown",
   "metadata": {},
   "source": [
    "https://stackoverflow.com/questions/31387905/converting-plural-to-singular-in-a-text-file-with-python\n",
    "\n",
    "https://stackoverflow.com/questions/31387905/converting-plural-to-singular-in-a-text-file-with-python\n",
    "\n",
    "Need to pass one document text at a time.\n",
    "\n",
    "Returns the list of all tokens\n",
    "\n",
    "Returns the list of tokenizes sentences"
   ]
  },
  {
   "cell_type": "code",
   "execution_count": null,
   "metadata": {},
   "outputs": [
    {
     "name": "stdout",
     "output_type": "stream",
     "text": [
      "Converted Core.ipynb.\n",
      "Converted helpers.ipynb.\n",
      "Converted index.ipynb.\n",
      "Converted nlp_helpers.ipynb.\n",
      "Converted preprocessing.ipynb.\n",
      "Converted Sandbox.ipynb.\n"
     ]
    }
   ],
   "source": [
    "#hide\n",
    "from nbdev.export import notebook2script\n",
    "notebook2script()"
   ]
  }
 ],
 "metadata": {
  "kernelspec": {
   "display_name": "Python 3",
   "language": "python",
   "name": "python3"
  }
 },
 "nbformat": 4,
 "nbformat_minor": 2
}
