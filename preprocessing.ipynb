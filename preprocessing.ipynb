{
 "cells": [
  {
   "cell_type": "code",
   "execution_count": null,
   "metadata": {},
   "outputs": [],
   "source": [
    "# default_exp preprocessing"
   ]
  },
  {
   "cell_type": "code",
   "execution_count": null,
   "metadata": {},
   "outputs": [],
   "source": [
    "#hide\n",
    "# %load_ext autoreload\n",
    "# %autoreload 2\n",
    "from nbdev.showdoc import *"
   ]
  },
  {
   "cell_type": "code",
   "execution_count": null,
   "metadata": {},
   "outputs": [],
   "source": [
    "#export\n",
    "import nltk\n",
    "from nltk.tokenize import WhitespaceTokenizer\n",
    "from nltk.corpus import stopwords\n",
    "import numpy as np\n",
    "import string\n",
    "import re\n",
    "import os"
   ]
  },
  {
   "cell_type": "markdown",
   "metadata": {},
   "source": [
    "# Preprocessing\n",
    "\n",
    "> Methods for preprocessing raw text data"
   ]
  },
  {
   "cell_type": "code",
   "execution_count": null,
   "metadata": {},
   "outputs": [],
   "source": [
    "#export\n",
    "def process_sentence(doc_id:int, sent_id:int, sent_tokens:list, sent_pos:list, raw_sent:str):\n",
    "    \"Pre-process a single sentence\"\n",
    "    row_id = f\"doc.{doc_id}.sent.{sent_id}\"\n",
    "    sent_text = raw_sent[sent_id]\n",
    "    tokens = sent_tokens[sent_id]\n",
    "    pos_tags = sent_pos[sent_id]\n",
    "    data_row = [row_id, doc_id, sent_id, sent_text, tokens, pos_tags]\n",
    "    return data_row\n",
    "\n",
    "def process_doc(doc_id:int, text:str, stop_words:list):\n",
    "    \"Pre-process a single document\"\n",
    "    \n",
    "    # Pre-process document into cleaned sentences\n",
    "    sent_tokens, sent_pos, raw_sent = tokenize_and_stem(text, stop_words)\n",
    "\n",
    "    # Populate a row in data for each sentence in the document\n",
    "    data_rows = [process_sentence(doc_id, sent_id, sent_tokens, sent_pos, raw_sent) for sent_id in range(len(sent_tokens))]\n",
    "\n",
    "    # Populate a row in doc_df for each file loaded\n",
    "    doc_tokens = [token for sent in sent_tokens for token in sent]\n",
    "    doc_row = [doc_id, None, text, doc_tokens]\n",
    "    \n",
    "    return doc_row, data_rows"
   ]
  },
  {
   "cell_type": "code",
   "execution_count": null,
   "metadata": {},
   "outputs": [],
   "source": [
    "#export\n",
    "def decontracted(text:str):\n",
    "    \"\"\"\n",
    "    Removes contractions from input `text`.\n",
    "    \n",
    "    Credit: https://stackoverflow.com/questions/19790188/expanding-english-language-contractions-in-python\n",
    "    \n",
    "    Returns str\n",
    "    \"\"\"\n",
    "    contractions = [\n",
    "        (r\"won\\'t\", \"will not\"),\n",
    "        (r\"can\\'t\", \"can not\"),\n",
    "        (r\"hadn\\'t\", \"had not\"),\n",
    "        (r\"doesnt\", \"does not\"),\n",
    "        (r\"youre\", \"you are\"),\n",
    "        (r\"dont\", \"do not\"),\n",
    "        (r\"im\\s\", \"i am\"),\n",
    "        (r\"ive\\s\", \"i have\"),\n",
    "        (r\"won\\'t\", \"will not\"),\n",
    "        (r\"can\\'t\", \"can not\"),\n",
    "        (r\"hadn\\'t\", \"had not\"),\n",
    "        (r\"dont\\s\", \"do not\"), \n",
    "        (r\"n\\'t\", \" not\"),\n",
    "        (r\"\\'re\", \" are\"),\n",
    "        (r\"\\'s\", \" is\"),\n",
    "        (r\"\\'d\", \" would\"),\n",
    "        (r\"\\'ll\", \" will\"),\n",
    "        (r\"\\'t\", \" not\"),\n",
    "        (r\"\\'ve\", \" have\"),\n",
    "        (r\"\\'m\", \" am\"),\n",
    "        (r\"/\", \" \")\n",
    "    ]\n",
    "    \n",
    "    # Replace any contractions with their decontracted equivalent\n",
    "    for contraction, decontracted in contractions:\n",
    "        text = re.sub(contraction, decontracted, text)\n",
    "\n",
    "    return text"
   ]
  },
  {
   "cell_type": "code",
   "execution_count": null,
   "metadata": {},
   "outputs": [],
   "source": [
    "#export\n",
    "def get_stop_words(stop_words_file:str=None):\n",
    "    \"Gets a list of all stop words\"\n",
    "    # Load custom stop words from file if given\n",
    "    custom_stop_words = []\n",
    "    if stop_words_file is not None:\n",
    "        if os.path.isfile(stop_words_file):\n",
    "            with open(stop_words_file, encoding=\"utf-8\") as file:\n",
    "                custom_stop_words = file.read().strip().split('\\n')\n",
    "                \n",
    "    stop_words = set(stopwords.words('english')) | set(custom_stop_words)\n",
    "    return stop_words\n",
    "\n",
    "def token_filter(token:str, stop_words:list):\n",
    "    \"\"\"\n",
    "    Checks if a token should be kept (True) or removed during pre-processing (i.e stop words, non-alpha tokens)\n",
    "    \n",
    "    Returns bool\n",
    "    \"\"\"\n",
    "    match = re.match('[A-z]', token)\n",
    "    return match is not None and token not in stop_words\n",
    "\n",
    "def get_tokens(text:string):\n",
    "    \"\"\"\n",
    "    Gets list of tokens from string\n",
    "    \n",
    "    Returns list\n",
    "    \"\"\"\n",
    "    table = str.maketrans(' ', ' ', string.punctuation+\"“\"+\"”\")\n",
    "    return WhitespaceTokenizer().tokenize(decontracted(text).translate(table))\n",
    "\n",
    "def tokenize_and_stem(text:str, stop_words:list):\n",
    "    \"\"\"\n",
    "    Parse out sentences, remove contractions, tokenize by white space, remove all punctuation, \n",
    "    lemmatize tokens, and get parts of speech.\n",
    "    \n",
    "    Returns (list, list, list)\n",
    "    \"\"\"\n",
    "\n",
    "    lemmatizer = nltk.WordNetLemmatizer()  \n",
    "    \n",
    "    # Split into sentences and condense whitespace\n",
    "    sent_raw = [re.sub(\"\\s+\", \" \" ,s).strip() for s in nltk.sent_tokenize(text)]\n",
    "    sent_tokens = []\n",
    "    sent_pos = []\n",
    "            \n",
    "    # Tokenize sentences\n",
    "    tokenized = np.array([get_tokens(s) for s in sent_raw])\n",
    "\n",
    "    # Part of Speech tags\n",
    "    pos_tags = [[p[1] for p in nltk.pos_tag(sent)] for sent in tokenized]\n",
    "\n",
    "    # Lemmatize and convert to lowercase\n",
    "    lemma = [[lemmatizer.lemmatize(token).lower() for token in sent] for sent in tokenized]\n",
    "    \n",
    "    # Create filter to remove invalid tokens\n",
    "    filter_mask = np.array([[token_filter(token, stop_words) for token in sent] for sent in lemma])\n",
    "    \n",
    "    # Remove invalid tokens\n",
    "    sent_tokens = [np.array(lemma[i])[filter_mask[i]] for i in range(len(lemma))]\n",
    "    sent_pos = [np.array(pos_tags[i])[filter_mask[i]] for i in range(len(pos_tags))]\n",
    "\n",
    "    return sent_tokens, sent_pos, sent_raw"
   ]
  },
  {
   "cell_type": "code",
   "execution_count": null,
   "metadata": {},
   "outputs": [],
   "source": [
    "# hide\n",
    "stop_words = ['stop_word']\n",
    "assert token_filter('token', stop_words) == True\n",
    "assert token_filter('TOKEN', stop_words) == True\n",
    "assert token_filter('under_score', stop_words) == True\n",
    "assert token_filter('a1c', stop_words) == True\n",
    "assert token_filter('stop_word', stop_words) == False\n",
    "assert token_filter('1', stop_words) == False\n",
    "assert token_filter(' ', stop_words) == False"
   ]
  },
  {
   "cell_type": "code",
   "execution_count": null,
   "metadata": {},
   "outputs": [
    {
     "name": "stdout",
     "output_type": "stream",
     "text": [
      "Converted core.ipynb.\n",
      "Converted index.ipynb.\n",
      "Converted internal.ipynb.\n",
      "Converted preprocessing.ipynb.\n"
     ]
    }
   ],
   "source": [
    "#hide\n",
    "from nbdev.export import notebook2script\n",
    "notebook2script()"
   ]
  }
 ],
 "metadata": {
  "kernelspec": {
   "display_name": "Python 3",
   "language": "python",
   "name": "python3"
  }
 },
 "nbformat": 4,
 "nbformat_minor": 2
}
