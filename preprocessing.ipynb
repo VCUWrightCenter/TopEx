{
 "cells": [
  {
   "cell_type": "code",
   "execution_count": null,
   "metadata": {},
   "outputs": [],
   "source": [
    "# default_exp preprocessing"
   ]
  },
  {
   "cell_type": "code",
   "execution_count": null,
   "metadata": {},
   "outputs": [],
   "source": [
    "#hide\n",
    "%load_ext autoreload\n",
    "%autoreload 2\n",
    "from nbdev.showdoc import *"
   ]
  },
  {
   "cell_type": "code",
   "execution_count": null,
   "metadata": {},
   "outputs": [],
   "source": [
    "#export\n",
    "import nltk\n",
    "from nltk.tokenize import WhitespaceTokenizer\n",
    "from nltk.corpus import stopwords\n",
    "import numpy as np\n",
    "import string\n",
    "import re"
   ]
  },
  {
   "cell_type": "markdown",
   "metadata": {},
   "source": [
    "# Preprocessing\n",
    "\n",
    "> Methods for preprocessing raw text data"
   ]
  },
  {
   "cell_type": "code",
   "execution_count": null,
   "metadata": {},
   "outputs": [],
   "source": [
    "#export\n",
    "def decontracted(text:str):\n",
    "    \"\"\"\n",
    "    Removes contractions from input `text`.\n",
    "    \n",
    "    Credit: https://stackoverflow.com/questions/19790188/expanding-english-language-contractions-in-python\n",
    "    \n",
    "    Returns str\n",
    "    \"\"\"\n",
    "    contractions = [\n",
    "        (r\"won\\'t\", \"will not\"),\n",
    "        (r\"can\\'t\", \"can not\"),\n",
    "        (r\"hadn\\'t\", \"had not\"),\n",
    "        (r\"doesnt\", \"does not\"),\n",
    "        (r\"youre\", \"you are\"),\n",
    "        (r\"dont\", \"do not\"),\n",
    "        (r\"im\\s\", \"i am\"),\n",
    "        (r\"ive\\s\", \"i have\"),\n",
    "        (r\"won\\'t\", \"will not\"),\n",
    "        (r\"can\\'t\", \"can not\"),\n",
    "        (r\"hadn\\'t\", \"had not\"),\n",
    "        (r\"dont\\s\", \"do not\"), \n",
    "        (r\"n\\'t\", \" not\"),\n",
    "        (r\"\\'re\", \" are\"),\n",
    "        (r\"\\'s\", \" is\"),\n",
    "        (r\"\\'d\", \" would\"),\n",
    "        (r\"\\'ll\", \" will\"),\n",
    "        (r\"\\'t\", \" not\"),\n",
    "        (r\"\\'ve\", \" have\"),\n",
    "        (r\"\\'m\", \" am\")\n",
    "    ]\n",
    "    \n",
    "    # Replace any contractions with their decontracted equivalent\n",
    "    for contraction, decontracted in contractions:\n",
    "        text = re.sub(contraction, decontracted, text)\n",
    "        \n",
    "    text = re.sub(r\"/\", \" \", text) ### I added this line (Amy)\n",
    "    return text"
   ]
  },
  {
   "cell_type": "code",
   "execution_count": null,
   "metadata": {},
   "outputs": [],
   "source": [
    "#export\n",
    "def token_filter(token:str, stop_words:list):\n",
    "    \"\"\"\n",
    "    Checks if a token should be kept (True) or removed during pre-processing (i.e stop words, non-alpha tokens)\n",
    "    \n",
    "    Returns bool\n",
    "    \"\"\"\n",
    "    match = re.match('[A-z]', token)\n",
    "    return match is not None and token not in stop_words"
   ]
  },
  {
   "cell_type": "code",
   "execution_count": null,
   "metadata": {},
   "outputs": [],
   "source": [
    "# hide\n",
    "stop_words = ['stop_word']\n",
    "assert token_filter('token', stop_words) == True\n",
    "assert token_filter('TOKEN', stop_words) == True\n",
    "assert token_filter('under_score', stop_words) == True\n",
    "assert token_filter('a1c', stop_words) == True\n",
    "assert token_filter('stop_word', stop_words) == False\n",
    "assert token_filter('1', stop_words) == False\n",
    "assert token_filter(' ', stop_words) == False"
   ]
  },
  {
   "cell_type": "code",
   "execution_count": null,
   "metadata": {},
   "outputs": [],
   "source": [
    "#export\n",
    "def tokenize_and_stem(text):\n",
    "    \"\"\"\n",
    "    Parse out sentences, remove contractions, tokenize by white space, remove all punctuation, \n",
    "    lemmatize tokens, and get parts of speech.\n",
    "    \n",
    "    Returns (list, list, list)\n",
    "    \"\"\"\n",
    "    \n",
    "    lemmatizer = nltk.WordNetLemmatizer()\n",
    "    custom_stop_words = {\"patient\",\"mrs\",\"hi\",\"ob\",\"1am\",\"4month\",\"o2\",\"ed\",\"ecmo\",\"m3\",\"ha\",\"3rd\",\"ai\",\"csicu\",\"wa\",\n",
    "                         \"first\",\"second\",\"third\",\"fourth\",\"etc\",\"eg\",\"thus\",\",\",\".\",\"'\",\"(\",\")\",\"!\",\"...\",\"'m\",\"'s\",\n",
    "                         '\"',\"?\", \"`\",\"say\",\"many\",\"things\",\"new\",\"much\",\"get\",\"really\",\"since\",\"way\",\"also\",\"one\",\n",
    "                         \"two\",\"three\",\"four\",\"five\",\"six\",\"week\",\"day\",\"month\",\"year\",\"would\",\"could\",\"should\",\n",
    "                         \"like\",\"im\",\"thing\",\"v\",\"u\",\"d\",\"g\"}\n",
    "    stop_words = set(stopwords.words('english')) | custom_stop_words\n",
    "    table  = str.maketrans(' ', ' ', string.punctuation+\"“\"+\"”\")\n",
    "    sent = nltk.sent_tokenize(text)\n",
    "    sent_tokens = []\n",
    "    sent_pos = []\n",
    "    sent_raw = []\n",
    "    \n",
    "    #For each sentence in document get back the list of tokenized words with contractions normalized and punctuation removed\n",
    "    for s in sent:   \n",
    "        # Condense whitespace\n",
    "        s = re.sub(\"\\s+\", \" \" ,s).strip()\n",
    "        \n",
    "        sent_raw.append(s)\n",
    "        tokenized = WhitespaceTokenizer().tokenize(decontracted(s).translate(table))\n",
    "        \n",
    "        # Part of Speech tags\n",
    "        pos_tags = nltk.pos_tag(tokenized)\n",
    "        \n",
    "        # Lemmatize and convert to lowercase\n",
    "        lemma = [lemmatizer.lemmatize(t).lower() for t in tokenized]\n",
    "\n",
    "        # Create a filter to remove stopwords (including some punctuation) and tokens with no alpha characters\n",
    "        filter_mask = [token_filter(token, stop_words) for token in lemma]\n",
    "\n",
    "        # Add filtered list of tokens and PoS tags\n",
    "        filtered_tokens = list(np.array(lemma)[filter_mask])\n",
    "        filtered_pos = list(np.array(pos_tags)[filter_mask])\n",
    "        sent_tokens.append(filtered_tokens)\n",
    "        sent_pos.append(filtered_pos)\n",
    "\n",
    "    return sent_tokens, sent_pos, sent_raw"
   ]
  },
  {
   "cell_type": "code",
   "execution_count": null,
   "metadata": {},
   "outputs": [
    {
     "name": "stdout",
     "output_type": "stream",
     "text": [
      "Converted core.ipynb.\n",
      "Converted index.ipynb.\n",
      "Converted internal.ipynb.\n",
      "Converted preprocessing.ipynb.\n"
     ]
    }
   ],
   "source": [
    "#hide\n",
    "from nbdev.export import notebook2script\n",
    "notebook2script()"
   ]
  }
 ],
 "metadata": {
  "kernelspec": {
   "display_name": "Python 3",
   "language": "python",
   "name": "python3"
  }
 },
 "nbformat": 4,
 "nbformat_minor": 2
}
