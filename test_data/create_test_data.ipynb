{
 "cells": [
  {
   "cell_type": "code",
   "execution_count": null,
   "metadata": {},
   "outputs": [],
   "source": [
    "import csv\n",
    "import nltk\n",
    "import pandas as pd"
   ]
  },
  {
   "cell_type": "code",
   "execution_count": null,
   "metadata": {},
   "outputs": [],
   "source": [
    "def df_to_disk(df, file_name, mode=\"w\", header=True):\n",
    "    \"Writes a dataframe to disk as a tab delimited file.\"\n",
    "    \n",
    "    df.to_csv(file_name, sep='\\t', mode=mode, header=header, encoding='utf-8', index=False, quoting=csv.QUOTE_NONE, quotechar=\"\",  escapechar=\"\\\\\")\n",
    "    if mode == \"w\":\n",
    "        print(f\"Results saved to {file_name}\")"
   ]
  },
  {
   "cell_type": "code",
   "execution_count": null,
   "metadata": {},
   "outputs": [
    {
     "data": {
      "text/plain": [
       "guilt      179\n",
       "sadness    165\n",
       "joy        148\n",
       "shame       79\n",
       "Name: Annotation, dtype: int64"
      ]
     },
     "execution_count": null,
     "metadata": {},
     "output_type": "execute_result"
    }
   ],
   "source": [
    "df = pd.read_csv('enISEAR_validation.tsv', sep='\\t', encoding='utf-8')[['Sentence', 'Annotation']].sort_values('Sentence')\n",
    "\n",
    "# Raw data has duplicate records from multiple annotators. Take modal label\n",
    "df = df.groupby('Sentence').agg(pd.Series.mode).reset_index()\n",
    "\n",
    "# Remove rows with multiple labels\n",
    "df = df[df.Annotation.apply(isinstance, args=(str,))]\n",
    "\n",
    "# Use only sentences label as joy, sadness, guilt, or shame\n",
    "df = df[df.Annotation.isin(['joy', 'sadness', 'guilt', 'shame'])]\n",
    "\n",
    "def clean(row):\n",
    "    # Interpolate emotions\n",
    "    row.Sentence = row.Sentence.replace('...', row.Annotation)\n",
    "    row.Sentence = row.Sentence.replace('…', row.Annotation)\n",
    "    # Only use first sentence\n",
    "    row.Sentence = nltk.sent_tokenize(row.Sentence)[0]\n",
    "    return row\n",
    "\n",
    "# Interpolate emotions back into sentences only keep the first sentence\n",
    "df.apply(lambda x: clean(x), axis=1)\n",
    "\n",
    "df.Annotation.value_counts()"
   ]
  },
  {
   "cell_type": "code",
   "execution_count": null,
   "metadata": {},
   "outputs": [
    {
     "name": "stdout",
     "output_type": "stream",
     "text": [
      "Results saved to seed_topics/guilt.txt\n",
      "Results saved to seed_topics/shame.txt\n",
      "Results saved to seed_topics/joy.txt\n",
      "Results saved to seed_topics/sadness.txt\n"
     ]
    }
   ],
   "source": [
    "# Write seed topics files from the first 50 sentences\n",
    "seed_df = df[:50]\n",
    "for label in set(seed_df.Annotation):\n",
    "    label_df = seed_df[seed_df.Annotation == label]\n",
    "    file_name = f\"seed_topics/{label}.txt\"\n",
    "    df_to_disk(label_df['Sentence'], file_name, header=False)"
   ]
  },
  {
   "cell_type": "code",
   "execution_count": null,
   "metadata": {},
   "outputs": [
    {
     "name": "stdout",
     "output_type": "stream",
     "text": [
      "Results saved to gold.txt\n"
     ]
    }
   ],
   "source": [
    "# Create 10 documents with 20 sentences each\n",
    "gold_df = None\n",
    "start = 100\n",
    "for i in range(10):\n",
    "    end = start + 20\n",
    "    doc_df = df[start:end].copy()\n",
    "    doc_df.reset_index(drop=True, inplace=True)\n",
    "    doc_df.reset_index(inplace = True)\n",
    "    \n",
    "    # Combine sentences and write to a document\n",
    "    corpus_file = f\"corpus/doc{i}.txt\"\n",
    "    with open(corpus_file, 'w+', encoding=\"utf-8\") as f:\n",
    "        f.write(' '.join(doc_df.Sentence))\n",
    "        \n",
    "    # Write gold standard file\n",
    "    doc_df['id'] = [f\"doc.{i}.sent.{j}\" for j in doc_df['index']]\n",
    "    if gold_df is None:\n",
    "        gold_df = doc_df[['id', 'Annotation']]\n",
    "    else:\n",
    "        gold_df = pd.concat([gold_df, doc_df[['id', 'Annotation']]])\n",
    "\n",
    "    start = end\n",
    "    \n",
    "# Write gold standard file\n",
    "gold_file = f\"gold.txt\"    \n",
    "df_to_disk(gold_df, gold_file, header=False)"
   ]
  }
 ],
 "metadata": {
  "kernelspec": {
   "display_name": "Python 3",
   "language": "python",
   "name": "python3"
  }
 },
 "nbformat": 4,
 "nbformat_minor": 4
}
